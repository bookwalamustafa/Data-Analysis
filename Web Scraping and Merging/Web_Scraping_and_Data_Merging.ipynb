{
 "cells": [
  {
   "cell_type": "markdown",
   "metadata": {
    "id": "aWL1iSNqF4kn"
   },
   "source": [
    "# INFO 212: Data Science Programming 1\n",
    "## CCI at Drexel University\n",
    "\n",
    "\n",
    "## Week 9: Lab: Data Loading and Merging\n"
   ]
  },
  {
   "cell_type": "code",
   "execution_count": 1,
   "metadata": {
    "id": "dkxk2ySSIlv7"
   },
   "outputs": [
    {
     "name": "stderr",
     "output_type": "stream",
     "text": [
      "/Library/Frameworks/Python.framework/Versions/3.12/lib/python3.12/site-packages/requests/__init__.py:86: RequestsDependencyWarning: Unable to find acceptable character detection dependency (chardet or charset_normalizer).\n",
      "  warnings.warn(\n"
     ]
    }
   ],
   "source": [
    "# Importing neccessary libraries\n",
    "import pandas as pd\n",
    "import numpy as np\n",
    "import matplotlib.pyplot as plt\n",
    "import seaborn as sns\n",
    "import json\n",
    "import requests"
   ]
  },
  {
   "cell_type": "markdown",
   "metadata": {
    "id": "_9alPk73F4ku"
   },
   "source": [
    "## Exercise 1"
   ]
  },
  {
   "cell_type": "markdown",
   "metadata": {
    "id": "bjeAepSIRxRI"
   },
   "source": [
    "1: Read in the tables from the Wikipedia page about World Series champions: https://en.wikipedia.org/wiki/List_of_World_Series_champions"
   ]
  },
  {
   "cell_type": "code",
   "execution_count": 2,
   "metadata": {
    "id": "CMAW5YHzr5NY"
   },
   "outputs": [
    {
     "name": "stderr",
     "output_type": "stream",
     "text": [
      "/var/folders/mw/4snkpx0970n_6rz3jtvq4yxr0000gn/T/ipykernel_15553/3801525153.py:14: FutureWarning: Passing literal html to 'read_html' is deprecated and will be removed in a future version. To read from a literal string, wrap it in a 'StringIO' object.\n",
      "  tables = pd.read_html(html_source.text)\n"
     ]
    }
   ],
   "source": [
    "# Set the target URL to the Wikipedia page of World Series champions\n",
    "target_url = 'https://en.wikipedia.org/wiki/List_of_World_Series_champions'\n",
    "\n",
    "# Send a GET request to fetch the HTML content of the page\n",
    "html_source = requests.get(target_url)\n",
    "\n",
    "# Check the status code to ensure the request was successful\n",
    "html_source.status_code\n",
    "\n",
    "# Access the text content of the response\n",
    "html_source.text\n",
    "\n",
    "# Use pandas to read all tables from the HTML content\n",
    "tables = pd.read_html(html_source.text)"
   ]
  },
  {
   "cell_type": "markdown",
   "metadata": {
    "id": "RPAiydb8RxRL"
   },
   "source": [
    "2: How many tables have you read in? List the columns of the table containing the world series results."
   ]
  },
  {
   "cell_type": "code",
   "execution_count": 3,
   "metadata": {
    "id": "TvJPQQ3xr6Jf"
   },
   "outputs": [
    {
     "name": "stdout",
     "output_type": "stream",
     "text": [
      "Number of tables read: 27\n",
      "\n",
      "The columns of the World Series Table are: Index(['Year', 'Winning team', 'Manager', 'Series', 'Losing team', 'Manager.1',\n",
      "       'Unnamed: 6', 'Unnamed: 7'],\n",
      "      dtype='object')\n"
     ]
    }
   ],
   "source": [
    "# Print the number of tables extracted from the HTML content\n",
    "print(f\"Number of tables read: {len(tables)}\\n\")\n",
    "\n",
    "# Loop through each table along with its index\n",
    "for i, table in enumerate(tables):\n",
    "    # print(f\"Table {i+1} Columns: {table.columns.tolist()}\\n\")\n",
    "    # Check if the current table contains the 'Series' column\n",
    "    if 'Series' in table.columns:\n",
    "        # Assign this table to 'world_series_table'\n",
    "        world_series_table = table\n",
    "        # Exit the loop\n",
    "        break\n",
    "\n",
    "# Display the columns of the World Series table\n",
    "print(f\"The columns of the World Series Table are: {world_series_table.columns}\")\n"
   ]
  },
  {
   "cell_type": "markdown",
   "metadata": {
    "id": "whdciWNbCTJf"
   },
   "source": [
    "3: List all the world series records that a team from Philadelphia played.  "
   ]
  },
  {
   "cell_type": "code",
   "execution_count": 4,
   "metadata": {
    "id": "OVmoxKLur61l"
   },
   "outputs": [
    {
     "name": "stdout",
     "output_type": "stream",
     "text": [
      "                                              Team  Wins  Losses  Apps Win %  \\\n",
      "2   Philadelphia / Kansas City / Oakland Athletics     9       5    14  .643   \n",
      "14                           Philadelphia Phillies     2       6     8  .250   \n",
      "\n",
      "                                            Season(s)  \n",
      "2   1905, 1910, 1911, 1913, 1914, 1929, 1930, 1931...  \n",
      "14     1915, 1950, 1980, 1983, 1993, 2008, 2009, 2022  \n"
     ]
    }
   ],
   "source": [
    "# Loop through each table along with its index\n",
    "for i, table in enumerate(tables):\n",
    "    # print(f\"Table {i+1} Columns: {table.columns.tolist()}\\n\")\n",
    "    # Check if the current table contains the 'Win%' column\n",
    "    if 'Win\\xa0%' in table.columns:\n",
    "        # Assign this table to 'world_series_records_by_franchise'\n",
    "        world_series_records_by_franchise = table\n",
    "        # Exit the loop\n",
    "        break\n",
    "\n",
    "# Filter the DataFrame for teams containing \"Philadelphia\" in their name\n",
    "philly_teams = world_series_records_by_franchise[world_series_records_by_franchise['Team'].str.contains(\"Philadelphia\")]\n",
    "\n",
    "# Print the filtered DataFrame of Philadelphia teams\n",
    "print(philly_teams)"
   ]
  },
  {
   "cell_type": "markdown",
   "metadata": {
    "id": "KaeXruD9Dho2"
   },
   "source": [
    "4: What is the winning probability of the Phillies?"
   ]
  },
  {
   "cell_type": "code",
   "execution_count": 5,
   "metadata": {
    "id": "XXCRrzcsr73y"
   },
   "outputs": [
    {
     "name": "stdout",
     "output_type": "stream",
     "text": [
      "The winning probability of the Phillies is: 25.00%\n"
     ]
    }
   ],
   "source": [
    "# Loop through each table along with its index\n",
    "for i, table in enumerate(tables):\n",
    "    # print(f\"Table {i+1} Columns: {table.columns.tolist()}\\n\")\n",
    "    # Check if the current table contains the 'Win%' column\n",
    "    if 'Win\\xa0%' in table.columns:\n",
    "        # Assign this table to 'world_series_records_by_franchise' \n",
    "        world_series_records_by_franchise = table\n",
    "        # Exit the loop\n",
    "        break\n",
    "\n",
    "# Retrieve the 'Win%' value for the 'Philadelphia Phillies' from the DataFrame\n",
    "phillies_win_percentage = world_series_records_by_franchise.loc[world_series_records_by_franchise['Team'] == 'Philadelphia Phillies', 'Win\\xa0%']\n",
    "\n",
    "# Calculate and print the winning probability formatted to two decimal places\n",
    "print(f\"The winning probability of the Phillies is: {(float(phillies_win_percentage.iloc[0]) * 100):.2f}%\")"
   ]
  },
  {
   "cell_type": "markdown",
   "metadata": {
    "id": "_YaTy4PEE7C_"
   },
   "source": [
    "# Exercise 2"
   ]
  },
  {
   "cell_type": "markdown",
   "metadata": {
    "id": "BQ_7cK7hGs6O"
   },
   "source": [
    "1: Read in the roam_prescription_based_prediction.jsonl using Pandas. This is the dataset used in the Roam blog post Prescription-based prediction. The file is in JSONL format (one JSON record per line). Show the size of the data, columns, etc."
   ]
  },
  {
   "cell_type": "code",
   "execution_count": 6,
   "metadata": {
    "id": "IxIlx9-wr-so"
   },
   "outputs": [
    {
     "name": "stdout",
     "output_type": "stream",
     "text": [
      "Number of Rows of the dataframe: 239930\n",
      "\n",
      "Number of Columns of the dataframe: 3\n",
      "\n",
      "Columns of the dataframe: Index(['cms_prescription_counts', 'provider_variables', 'npi'], dtype='object')\n",
      "\n",
      "Displaying the first 5 values of the dataframe:                              cms_prescription_counts  \\\n",
      "0  {'DOXAZOSIN MESYLATE': 26, 'MIDODRINE HCL': 12...   \n",
      "1  {'CEPHALEXIN': 23, 'AMOXICILLIN': 52, 'HYDROCO...   \n",
      "2  {'CEPHALEXIN': 28, 'AMOXICILLIN': 73, 'CLINDAM...   \n",
      "3                                {'AMOXICILLIN': 63}   \n",
      "4  {'PIOGLITAZONE HCL': 24, 'BENAZEPRIL HCL': 29,...   \n",
      "\n",
      "                                  provider_variables         npi  \n",
      "0  {'settlement_type': 'non-urban', 'generic_rx_c...  1295763035  \n",
      "1  {'settlement_type': 'non-urban', 'generic_rx_c...  1992715205  \n",
      "2  {'settlement_type': 'non-urban', 'generic_rx_c...  1578587630  \n",
      "3  {'settlement_type': 'non-urban', 'generic_rx_c...  1932278405  \n",
      "4  {'settlement_type': 'non-urban', 'generic_rx_c...  1437366804  \n",
      "\n",
      "                npi\n",
      "count  2.399300e+05\n",
      "mean   1.500000e+09\n",
      "std    2.878876e+08\n",
      "min    1.003000e+09\n",
      "25%    1.245543e+09\n",
      "50%    1.508072e+09\n",
      "75%    1.740572e+09\n",
      "max    1.993000e+09\n"
     ]
    }
   ],
   "source": [
    "# Loading the jsonl file\n",
    "df = pd.read_json(\"/Users/mustafabookwala/Desktop/Drexel/Pre-Junior/Fall 2024/INFO 212/Week 9/roam_prescription_based_prediction.jsonl\", lines=True)\n",
    "\n",
    "# Displaying relevant information\n",
    "print(f\"Number of Rows of the dataframe: {df.shape[0]}\\n\")\n",
    "print(f\"Number of Columns of the dataframe: {df.shape[1]}\\n\")\n",
    "print(f\"Columns of the dataframe: {df.columns}\\n\")\n",
    "print(f\"Displaying the first 5 values of the dataframe: {df.head()}\\n\")\n",
    "print(f\"{df.describe()}\")"
   ]
  },
  {
   "cell_type": "markdown",
   "metadata": {
    "id": "y69UWmauIJZ0"
   },
   "source": [
    "2: Extract the first 10,000 provider information as a DataFrame called `providers`. Set the index to be the npi."
   ]
  },
  {
   "cell_type": "code",
   "execution_count": 7,
   "metadata": {
    "id": "X6l7QRQhsArY"
   },
   "outputs": [
    {
     "name": "stdout",
     "output_type": "stream",
     "text": [
      "                                           provider_variables\n",
      "npi                                                          \n",
      "1295763035  {'settlement_type': 'non-urban', 'generic_rx_c...\n",
      "1992715205  {'settlement_type': 'non-urban', 'generic_rx_c...\n",
      "1578587630  {'settlement_type': 'non-urban', 'generic_rx_c...\n",
      "1932278405  {'settlement_type': 'non-urban', 'generic_rx_c...\n",
      "1437366804  {'settlement_type': 'non-urban', 'generic_rx_c...\n",
      "...                                                       ...\n",
      "1700873247  {'settlement_type': 'non-urban', 'generic_rx_c...\n",
      "1689729568  {'settlement_type': 'urban', 'generic_rx_count...\n",
      "1649455882  {'settlement_type': 'non-urban', 'generic_rx_c...\n",
      "1396938197  {'settlement_type': 'non-urban', 'generic_rx_c...\n",
      "1588704415  {'settlement_type': 'urban', 'generic_rx_count...\n",
      "\n",
      "[10000 rows x 1 columns]\n"
     ]
    }
   ],
   "source": [
    "# Extract the first 10,000 rows for 'provider_variables' and 'npi' columns from the DataFrame\n",
    "providers = df.loc[:9999, [\"provider_variables\", \"npi\"]]\n",
    "\n",
    "# Set 'npi' column as the index of the DataFrame\n",
    "providers.set_index('npi', inplace=True)\n",
    "\n",
    "# Display the resulting DataFrame\n",
    "print(providers)"
   ]
  },
  {
   "cell_type": "markdown",
   "metadata": {
    "id": "hcllNVC0Jaa-"
   },
   "source": [
    "3: Extract first 10,000 prescription counts as a DataFrame called `pres`. Set the index to be the npi."
   ]
  },
  {
   "cell_type": "code",
   "execution_count": 8,
   "metadata": {
    "id": "xR5MmgC4sBLN"
   },
   "outputs": [
    {
     "name": "stdout",
     "output_type": "stream",
     "text": [
      "                                      cms_prescription_counts\n",
      "npi                                                          \n",
      "1295763035  {'DOXAZOSIN MESYLATE': 26, 'MIDODRINE HCL': 12...\n",
      "1992715205  {'CEPHALEXIN': 23, 'AMOXICILLIN': 52, 'HYDROCO...\n",
      "1578587630  {'CEPHALEXIN': 28, 'AMOXICILLIN': 73, 'CLINDAM...\n",
      "1932278405                                {'AMOXICILLIN': 63}\n",
      "1437366804  {'PIOGLITAZONE HCL': 24, 'BENAZEPRIL HCL': 29,...\n",
      "...                                                       ...\n",
      "1700873247  {'DILTIAZEM 24HR ER': 49, 'ENALAPRIL MALEATE':...\n",
      "1689729568                                      {'CREON': 14}\n",
      "1649455882                                  {'IBUPROFEN': 24}\n",
      "1396938197  {'FLUOXETINE HCL': 19, 'SIMVASTATIN': 32, 'NOV...\n",
      "1588704415  {'SERTRALINE HCL': 22, 'TRAZODONE HCL': 17, 'S...\n",
      "\n",
      "[10000 rows x 1 columns]\n"
     ]
    }
   ],
   "source": [
    "# Extract the first 10,000 rows for 'cms_prescription_counts' and 'npi' columns from the DataFrame\n",
    "pres = df.loc[:9999, [\"cms_prescription_counts\", \"npi\"]]\n",
    "\n",
    "# Set 'npi' column as the index of the DataFrame\n",
    "pres.set_index('npi', inplace=True)\n",
    "\n",
    "# Display the resulting DataFrame\n",
    "print(pres)"
   ]
  },
  {
   "cell_type": "markdown",
   "metadata": {
    "id": "i5UzpLjtHA0R"
   },
   "source": [
    "4: Join `providers` with `pres` on npi. Extract the providers' info\n",
    "\n",
    "*   List item\n",
    "*   List item\n",
    "\n",
    "who prescribed the most number of DIAZEPAM."
   ]
  },
  {
   "cell_type": "code",
   "execution_count": 9,
   "metadata": {},
   "outputs": [
    {
     "name": "stdout",
     "output_type": "stream",
     "text": [
      "provider_npi: 1730150194\n",
      "DIAZEPAM count: 1327\n",
      "settlement_type: non-urban\n",
      "generic_rx_count: 23842\n",
      "specialty: Interventional Pain Medicine\n",
      "years_practicing: 7\n",
      "gender: M\n",
      "region: South\n",
      "brand_name_rx_count: 3264\n"
     ]
    }
   ],
   "source": [
    "# Concatenate the 'providers' and 'pres' DataFrames along the columns\n",
    "providers_and_pres = pd.concat([providers, pres], axis=1)\n",
    "\n",
    "# Ensure the index is of type string for consistency\n",
    "providers_and_pres.index = providers_and_pres.index.astype(str)\n",
    "\n",
    "# Initialize a list to store diazepam prescription counts for each provider\n",
    "diazepam_counts = []\n",
    "\n",
    "# Iterate over each provider in the DataFrame\n",
    "for index in providers_and_pres.index:\n",
    "    # Get the CMS prescription counts for the current provider\n",
    "    cms_counts = providers_and_pres.loc[index, 'cms_prescription_counts']\n",
    "    # Check if 'DIAZEPAM' is among the prescriptions\n",
    "    if 'DIAZEPAM' in cms_counts:\n",
    "        # Get the count of 'DIAZEPAM' prescriptions\n",
    "        count = cms_counts['DIAZEPAM']\n",
    "    else:\n",
    "        # If not prescribed, set count to zero\n",
    "        count = 0\n",
    "    # Append the provider's NPI and diazepam count to the list\n",
    "    diazepam_counts.append((index, count))\n",
    "\n",
    "# Create a DataFrame from the list of diazepam counts\n",
    "diazepam = pd.DataFrame(diazepam_counts, columns=['npi', 'DIAZEPAM_count'])\n",
    "\n",
    "# Set 'npi' as the index of the new DataFrame\n",
    "diazepam.set_index('npi', inplace=True)\n",
    "\n",
    "# Index must be of type string\n",
    "diazepam.index = diazepam.index.astype(str)\n",
    "\n",
    "# Merge the diazepam counts back into the main DataFrame\n",
    "providers_and_pres = providers_and_pres.merge(diazepam, left_index=True, right_index=True)\n",
    "\n",
    "# Find the providers with the maximum diazepam prescription count\n",
    "max_diazepam_providers = providers_and_pres[\n",
    "    providers_and_pres['DIAZEPAM_count'] == providers_and_pres['DIAZEPAM_count'].max()\n",
    "]\n",
    "\n",
    "# Iterate over the providers with the maximum diazepam prescriptions\n",
    "for index in max_diazepam_providers.index:\n",
    "    # Get the provider's information\n",
    "    provider_info = max_diazepam_providers.loc[index, 'provider_variables']\n",
    "    # Print the provider's NPI\n",
    "    print(f\"provider_npi: {index}\")\n",
    "    # Print the maximum diazepam prescription count\n",
    "    print(f\"DIAZEPAM count: {max_diazepam_providers['DIAZEPAM_count'].max()}\")\n",
    "    # Print each detail about the provider\n",
    "    for key, value in provider_info.items():\n",
    "        print(f\"{key}: {value}\")"
   ]
  }
 ],
 "metadata": {
  "colab": {
   "provenance": []
  },
  "kernelspec": {
   "display_name": "Python 3",
   "language": "python",
   "name": "python3"
  },
  "language_info": {
   "codemirror_mode": {
    "name": "ipython",
    "version": 3
   },
   "file_extension": ".py",
   "mimetype": "text/x-python",
   "name": "python",
   "nbconvert_exporter": "python",
   "pygments_lexer": "ipython3",
   "version": "3.12.0"
  }
 },
 "nbformat": 4,
 "nbformat_minor": 0
}
