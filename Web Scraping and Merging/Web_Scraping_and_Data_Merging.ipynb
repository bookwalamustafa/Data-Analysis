{
 "cells": [
  {
   "cell_type": "markdown",
   "metadata": {
    "id": "aWL1iSNqF4kn"
   },
   "source": [
    "# INFO 212: Data Science Programming 1\n",
    "## CCI at Drexel University\n",
    "\n",
    "\n",
    "## Week 9: Lab: Data Loading and Merging\n"
   ]
  },
  {
   "cell_type": "code",
   "execution_count": 131,
   "metadata": {
    "id": "dkxk2ySSIlv7"
   },
   "outputs": [],
   "source": [
    "import pandas as pd\n",
    "import numpy as np\n",
    "import matplotlib.pyplot as plt\n",
    "import seaborn as sns\n",
    "import json\n",
    "import requests"
   ]
  },
  {
   "cell_type": "markdown",
   "metadata": {
    "id": "_9alPk73F4ku"
   },
   "source": [
    "## Exercise 1"
   ]
  },
  {
   "cell_type": "markdown",
   "metadata": {
    "id": "bjeAepSIRxRI"
   },
   "source": [
    "1: Read in the tables from the Wikipedia page about World Series champions: https://en.wikipedia.org/wiki/List_of_World_Series_champions"
   ]
  },
  {
   "cell_type": "code",
   "execution_count": 132,
   "metadata": {
    "id": "CMAW5YHzr5NY"
   },
   "outputs": [
    {
     "name": "stdout",
     "output_type": "stream",
     "text": [
      "[                                                    0\n",
      "0                             Part of a series on the\n",
      "1                    Major League Baseball postseason\n",
      "2                                    Wild Card Series\n",
      "3                                         ALWCS NLWCS\n",
      "4                                     Division Series\n",
      "5                                           ALDS NLDS\n",
      "6                          League Championship Series\n",
      "7             ALCS (Winners list) NLCS (Winners list)\n",
      "8                                        World Series\n",
      "9   List of World Series champions Commissioner's ...\n",
      "10                                              Teams\n",
      "11                Appearances Series Streaks Droughts\n",
      "12                                                vte,                                 Year                     Winning team  \\\n",
      "0    Modern World Series (pre-1967):  Modern World Series (pre-1967):   \n",
      "1                            1903[a]        Boston Americans (1, 1–0)   \n",
      "2                            1904[b]                  (not played)[c]   \n",
      "3                            1905[d]         New York Giants (1, 1–0)   \n",
      "4                               1906       Chicago White Sox (1, 1–0)   \n",
      "..                               ...                              ...   \n",
      "119                             2020   Los Angeles Dodgers (21, 7–14)   \n",
      "120                             2021         Atlanta Braves (10, 4–6)   \n",
      "121                             2022          Houston Astros (5, 2–3)   \n",
      "122                             2023        Texas Rangers[W] (3, 1–2)   \n",
      "123                             2024   Los Angeles Dodgers (22, 8–14)   \n",
      "\n",
      "                             Manager                           Series  \\\n",
      "0    Modern World Series (pre-1967):  Modern World Series (pre-1967):   \n",
      "1                      Jimmy Collins                           5–3[V]   \n",
      "2                    (not played)[c]                  (not played)[c]   \n",
      "3                        John McGraw                              4–1   \n",
      "4                      Fielder Jones                              4–2   \n",
      "..                               ...                              ...   \n",
      "119                     Dave Roberts                              4–2   \n",
      "120                    Brian Snitker                              4–2   \n",
      "121                      Dusty Baker                              4–2   \n",
      "122                      Bruce Bochy                              4–1   \n",
      "123                     Dave Roberts                              4–1   \n",
      "\n",
      "                           Losing team                        Manager.1  \\\n",
      "0      Modern World Series (pre-1967):  Modern World Series (pre-1967):   \n",
      "1          Pittsburgh Pirates (1, 0–1)                      Fred Clarke   \n",
      "2                      (not played)[c]                  (not played)[c]   \n",
      "3      Philadelphia Athletics (1, 0–1)                      Connie Mack   \n",
      "4                Chicago Cubs (1, 0–1)                     Frank Chance   \n",
      "..                                 ...                              ...   \n",
      "119            Tampa Bay Rays (2, 0–2)                       Kevin Cash   \n",
      "120            Houston Astros (4, 1–3)                      Dusty Baker   \n",
      "121  Philadelphia Phillies[W] (8, 2–6)                      Rob Thomson   \n",
      "122   Arizona Diamondbacks[W] (2, 1–1)                    Torey Lovullo   \n",
      "123       New York Yankees (41, 27–14)                      Aaron Boone   \n",
      "\n",
      "                          Unnamed: 6                       Unnamed: 7  \n",
      "0    Modern World Series (pre-1967):  Modern World Series (pre-1967):  \n",
      "1                                NaN                              NaN  \n",
      "2                                NaN                              NaN  \n",
      "3                                NaN                              NaN  \n",
      "4                                NaN                              NaN  \n",
      "..                               ...                              ...  \n",
      "119                              NaN                              NaN  \n",
      "120                              NaN                              NaN  \n",
      "121                              NaN                              NaN  \n",
      "122                              NaN                              NaN  \n",
      "123                              NaN                              NaN  \n",
      "\n",
      "[124 rows x 8 columns],                                               Team  Wins  Losses  Apps  Win %  \\\n",
      "0                                 New York Yankees    27      14    41   .659   \n",
      "1                              St. Louis Cardinals    11       8    19   .579   \n",
      "2   Philadelphia / Kansas City / Oakland Athletics     9       5    14   .643   \n",
      "3                       Boston Americans / Red Sox     9       4    13   .692   \n",
      "4                   Brooklyn / Los Angeles Dodgers     8      14    22   .364   \n",
      "5                  New York / San Francisco Giants     8      12    20   .400   \n",
      "6                                  Cincinnati Reds     5       4     9   .556   \n",
      "7                               Pittsburgh Pirates     5       2     7   .714   \n",
      "8                                   Detroit Tigers     4       7    11   .364   \n",
      "9              Boston / Milwaukee / Atlanta Braves     4       6    10   .400   \n",
      "10                                    Chicago Cubs     3       8    11   .273   \n",
      "11            St. Louis Browns / Baltimore Orioles     3       4     7   .429   \n",
      "12           Washington Senators / Minnesota Twins     3       3     6   .500   \n",
      "13                               Chicago White Sox     3       2     5   .600   \n",
      "14                           Philadelphia Phillies     2       6     8   .250   \n",
      "15                   Cleveland Indians / Guardians     2       4     6   .333   \n",
      "16                                   New York Mets     2       3     5   .400   \n",
      "17                      Houston Colt .45s / Astros     2       3     5   .400   \n",
      "18                              Kansas City Royals     2       2     4   .500   \n",
      "19                               Toronto Blue Jays     2       0     2  1.000   \n",
      "20                         Florida / Miami Marlins     2       0     2  1.000   \n",
      "21             Washington Senators / Texas Rangers     1       2     3   .333   \n",
      "22                            Arizona Diamondbacks     1       1     2   .500   \n",
      "23       California / Anaheim / Los Angeles Angels     1       0     1  1.000   \n",
      "24           Montreal Expos / Washington Nationals     1       0     1  1.000   \n",
      "25                                San Diego Padres     0       2     2   .000   \n",
      "26                     Tampa Bay Devil Rays / Rays     0       2     2   .000   \n",
      "27              Seattle Pilots / Milwaukee Brewers     0       1     1   .000   \n",
      "28                                Colorado Rockies     0       1     1   .000   \n",
      "29                                Seattle Mariners     0       0     0      —   \n",
      "\n",
      "                                            Season(s)  \n",
      "0   1921, 1922, 1923, 1926, 1927, 1928, 1932, 1936...  \n",
      "1   1926, 1928, 1930, 1931, 1934, 1942, 1943, 1944...  \n",
      "2   1905, 1910, 1911, 1913, 1914, 1929, 1930, 1931...  \n",
      "3   1903, 1912, 1915, 1916, 1918, 1946, 1967, 1975...  \n",
      "4   1916, 1920, 1941, 1947, 1949, 1952, 1953, 1955...  \n",
      "5   1905, 1911, 1912, 1913, 1917, 1921, 1922, 1923...  \n",
      "6   1919, 1939, 1940, 1961, 1970, 1972, 1975, 1976...  \n",
      "7            1903, 1909, 1925, 1927, 1960, 1971, 1979  \n",
      "8   1907, 1908, 1909, 1934, 1935, 1940, 1945, 1968...  \n",
      "9   1914, 1948, 1957, 1958, 1991, 1992, 1995, 1996...  \n",
      "10  1906, 1907, 1908, 1910, 1918, 1929, 1932, 1935...  \n",
      "11           1944, 1966, 1969, 1970, 1971, 1979, 1983  \n",
      "12                 1924, 1925, 1933, 1965, 1987, 1991  \n",
      "13                       1906, 1917, 1919, 1959, 2005  \n",
      "14     1915, 1950, 1980, 1983, 1993, 2008, 2009, 2022  \n",
      "15                 1920, 1948, 1954, 1995, 1997, 2016  \n",
      "16                       1969, 1973, 1986, 2000, 2015  \n",
      "17                       2005, 2017, 2019, 2021, 2022  \n",
      "18                             1980, 1985, 2014, 2015  \n",
      "19                                         1992, 1993  \n",
      "20                                         1997, 2003  \n",
      "21                                   2010, 2011, 2023  \n",
      "22                                         2001, 2023  \n",
      "23                                               2002  \n",
      "24                                               2019  \n",
      "25                                         1984, 1998  \n",
      "26                                         2008, 2020  \n",
      "27                                               1982  \n",
      "28                                               2007  \n",
      "29                                                NaN  ,     Count                                     Matchup          Record  \\\n",
      "0      12    New York Yankees vs. Los Angeles Dodgers    Yankees, 8–4   \n",
      "1       7   New York Yankees vs. San Francisco Giants    Yankees, 5–2   \n",
      "2       5    St. Louis Cardinals vs. New York Yankees  Cardinals, 3–2   \n",
      "3       4  Oakland Athletics vs. San Francisco Giants  Athletics, 3–1   \n",
      "4       4         New York Yankees vs. Atlanta Braves    Yankees, 3–1   \n",
      "5       4             Chicago Cubs vs. Detroit Tigers       Tied, 2–2   \n",
      "6       4      Boston Red Sox vs. St. Louis Cardinals       Tied, 2–2   \n",
      "7       3      St. Louis Cardinals vs. Detroit Tigers  Cardinals, 2–1   \n",
      "8       3        New York Yankees vs. Cincinnati Reds    Yankees, 2–1   \n",
      "9       2          Oakland Athletics vs. Chicago Cubs  Athletics, 2–0   \n",
      "10      2      Boston Red Sox vs. Los Angeles Dodgers    Red Sox, 2–0   \n",
      "11      2           New York Yankees vs. Chicago Cubs    Yankees, 2–0   \n",
      "12      2  New York Yankees vs. Philadelphia Phillies    Yankees, 2–0   \n",
      "13      2    Pittsburgh Pirates vs. Baltimore Orioles    Pirates, 2–0   \n",
      "14      2    Minnesota Twins vs. San Francisco Giants       Tied, 1–1   \n",
      "15      2     New York Yankees vs. Pittsburgh Pirates       Tied, 1–1   \n",
      "16      2   Oakland Athletics vs. St. Louis Cardinals       Tied, 1–1   \n",
      "17      2      Atlanta Braves vs. Cleveland Guardians       Tied, 1–1   \n",
      "18      2       Cincinnati Reds vs. Oakland Athletics       Tied, 1–1   \n",
      "19      2   Los Angeles Dodgers vs. Oakland Athletics       Tied, 1–1   \n",
      "\n",
      "                                                Years  \n",
      "0   1941, 1947, 1949, 1952, 1953, 1955, 1956, 1963...  \n",
      "1            1921, 1922, 1923, 1936, 1937, 1951, 1962  \n",
      "2                        1926, 1928, 1942, 1943, 1964  \n",
      "3                              1905, 1911, 1913, 1989  \n",
      "4                              1957, 1958, 1996, 1999  \n",
      "5                              1907, 1908, 1935, 1945  \n",
      "6                              1946, 1967, 2004, 2013  \n",
      "7                                    1934, 1968, 2006  \n",
      "8                                    1939, 1961, 1976  \n",
      "9                                          1910, 1929  \n",
      "10                                         1916, 2018  \n",
      "11                                         1932, 1938  \n",
      "12                                         1950, 2009  \n",
      "13                                         1971, 1979  \n",
      "14                                         1924, 1933  \n",
      "15                                         1927, 1960  \n",
      "16                                         1930, 1931  \n",
      "17                                         1948, 1995  \n",
      "18                                         1972, 1990  \n",
      "19                                         1974, 1988  ,                              vteMajor League Baseball  \\\n",
      "0                                         2024 season   \n",
      "1                                     American League   \n",
      "2                                                East   \n",
      "3                                             Central   \n",
      "4                                                West   \n",
      "5                                     National League   \n",
      "6                                                East   \n",
      "7                                             Central   \n",
      "8                                                West   \n",
      "9   Schedule Spring training Opening Day Jackie Ro...   \n",
      "10                                           Schedule   \n",
      "11                                         Postseason   \n",
      "12                                           Business   \n",
      "13                                      Miscellaneous   \n",
      "14                                            History   \n",
      "15                                       Predecessors   \n",
      "16                                      Steroid usage   \n",
      "17                                           Timeline   \n",
      "18  Commissioner: Rob Manfred League Presidents AL NL   \n",
      "\n",
      "                           vteMajor League Baseball.1  \n",
      "0                                         2024 season  \n",
      "1   East Baltimore Orioles Boston Red Sox New York...  \n",
      "2   Baltimore Orioles Boston Red Sox New York Yank...  \n",
      "3   Chicago White Sox Cleveland Guardians Detroit ...  \n",
      "4   Athletics Houston Astros Los Angeles Angels Se...  \n",
      "5   East Atlanta Braves Miami Marlins New York Met...  \n",
      "6   Atlanta Braves Miami Marlins New York Mets Phi...  \n",
      "7   Chicago Cubs Cincinnati Reds Milwaukee Brewers...  \n",
      "8   Arizona Diamondbacks Colorado Rockies Los Ange...  \n",
      "9   Schedule Spring training Opening Day Jackie Ro...  \n",
      "10  Spring training Opening Day Jackie Robinson Da...  \n",
      "11  World Series Champions AL AL champions ALCS AL...  \n",
      "12  Authentication Program Business rules Draft Ru...  \n",
      "13  Instant replay Team uniforms (2024 controversy...  \n",
      "14  History AL Seasons Tie-breakers Tie-breaking p...  \n",
      "15  National Association American Association Unio...  \n",
      "16  Drug policy suspensions Mitchell Report Biogen...  \n",
      "17  Timeline of Major League Baseball History of t...  \n",
      "18  Commissioner: Rob Manfred League Presidents AL NL  ,          0                                                  1\n",
      "0     East  Baltimore Orioles Boston Red Sox New York Yank...\n",
      "1  Central  Chicago White Sox Cleveland Guardians Detroit ...\n",
      "2     West  Athletics Houston Astros Los Angeles Angels Se...,          0                                                  1\n",
      "0     East  Atlanta Braves Miami Marlins New York Mets Phi...\n",
      "1  Central  Chicago Cubs Cincinnati Reds Milwaukee Brewers...\n",
      "2     West  Arizona Diamondbacks Colorado Rockies Los Ange...,                                                    0  \\\n",
      "0                                           Schedule   \n",
      "1                                         Postseason   \n",
      "2                                           Business   \n",
      "3                                      Miscellaneous   \n",
      "4                                            History   \n",
      "5                                       Predecessors   \n",
      "6                                      Steroid usage   \n",
      "7                                           Timeline   \n",
      "8  Commissioner: Rob Manfred League Presidents AL NL   \n",
      "\n",
      "                                                   1  \n",
      "0  Spring training Opening Day Jackie Robinson Da...  \n",
      "1  World Series Champions AL AL champions ALCS AL...  \n",
      "2  Authentication Program Business rules Draft Ru...  \n",
      "3  Instant replay Team uniforms (2024 controversy...  \n",
      "4  History AL Seasons Tie-breakers Tie-breaking p...  \n",
      "5  National Association American Association Unio...  \n",
      "6  Drug policy suspensions Mitchell Report Biogen...  \n",
      "7  Timeline of Major League Baseball History of t...  \n",
      "8  Commissioner: Rob Manfred League Presidents AL NL  ,               0                                                  1\n",
      "0  Predecessors  National Association American Association Unio...,    vteWorld Series champions  \\\n",
      "0                      1900s   \n",
      "1                      1910s   \n",
      "2                      1920s   \n",
      "3                      1930s   \n",
      "4                      1940s   \n",
      "5                      1950s   \n",
      "6                      1960s   \n",
      "7                      1970s   \n",
      "8                      1980s   \n",
      "9                      1990s   \n",
      "10                     2000s   \n",
      "11                     2010s   \n",
      "12                     2020s   \n",
      "\n",
      "                          vteWorld Series champions.1  \n",
      "0   1903: Boston Americans 1904: No series 1905: N...  \n",
      "1   1910: Philadelphia Athletics 1911: Philadelphi...  \n",
      "2   1920: Cleveland Indians 1921: New York Giants ...  \n",
      "3   1930: Philadelphia Athletics 1931: St. Louis C...  \n",
      "4   1940: Cincinnati Reds 1941: New York Yankees 1...  \n",
      "5   1950: New York Yankees 1951: New York Yankees ...  \n",
      "6   1960: Pittsburgh Pirates 1961: New York Yankee...  \n",
      "7   1970: Baltimore Orioles 1971: Pittsburgh Pirat...  \n",
      "8   1980: Philadelphia Phillies 1981: Los Angeles ...  \n",
      "9   1990: Cincinnati Reds 1991: Minnesota Twins 19...  \n",
      "10  2000: New York Yankees 2001: Arizona Diamondba...  \n",
      "11  2010: San Francisco Giants 2011: St. Louis Car...  \n",
      "12  2020: Los Angeles Dodgers 2021: Atlanta Braves...  ,                                       vteWorld Series  \\\n",
      "0                                               1900s   \n",
      "1                                                 NaN   \n",
      "2                                               1910s   \n",
      "3                                                1910   \n",
      "4                                               1920s   \n",
      "5                                                1920   \n",
      "6                                               1930s   \n",
      "7                                                1930   \n",
      "8                                               1940s   \n",
      "9                                                1940   \n",
      "10                                              1950s   \n",
      "11                                               1950   \n",
      "12                                              1960s   \n",
      "13                                               1960   \n",
      "14                                              1970s   \n",
      "15                                               1970   \n",
      "16                                              1980s   \n",
      "17                                               1980   \n",
      "18                                              1990s   \n",
      "19                                               1990   \n",
      "20                                              2000s   \n",
      "21                                               2000   \n",
      "22                                              2010s   \n",
      "23                                               2010   \n",
      "24                                              2020s   \n",
      "25                                               2020   \n",
      "26                                              Lists   \n",
      "27                                Trophies and Awards   \n",
      "28                                            Related   \n",
      "29                                     Notable events   \n",
      "30  Series not held in 1904 because the NL champio...   \n",
      "\n",
      "                                    vteWorld Series.1  \\\n",
      "0                  1903 1904 1905 1906 1907 1908 1909   \n",
      "1                                                 NaN   \n",
      "2   1910 1911 1912 1913 1914 1915 1916 1917 1918 1919   \n",
      "3                                                1911   \n",
      "4   1920 1921 1922 1923 1924 1925 1926 1927 1928 1929   \n",
      "5                                                1921   \n",
      "6   1930 1931 1932 1933 1934 1935 1936 1937 1938 1939   \n",
      "7                                                1931   \n",
      "8   1940 1941 1942 1943 1944 1945 1946 1947 1948 1949   \n",
      "9                                                1941   \n",
      "10  1950 1951 1952 1953 1954 1955 1956 1957 1958 1959   \n",
      "11                                               1951   \n",
      "12  1960 1961 1962 1963 1964 1965 1966 1967 1968 1969   \n",
      "13                                               1961   \n",
      "14  1970 1971 1972 1973 1974 1975 1976 1977 1978 1979   \n",
      "15                                               1971   \n",
      "16  1980 1981 1982 1983 1984 1985 1986 1987 1988 1989   \n",
      "17                                               1981   \n",
      "18  1990 1991 1992 1993 1994 1995 1996 1997 1998 1999   \n",
      "19                                               1991   \n",
      "20  2000 2001 2002 2003 2004 2005 2006 2007 2008 2009   \n",
      "21                                               2001   \n",
      "22  2010 2011 2012 2013 2014 2015 2016 2017 2018 2019   \n",
      "23                                               2011   \n",
      "24                           2020 2021 2022 2023 2024   \n",
      "25                                               2021   \n",
      "26  World Series champions Sweeps Starting pitcher...   \n",
      "27  Commissioner's Trophy World Series ring World ...   \n",
      "28  Game 7 Pre-World Series champions Dauvray Cup ...   \n",
      "29                        1989 Loma Prieta earthquake   \n",
      "30  Series not held in 1904 because the NL champio...   \n",
      "\n",
      "                                    vteWorld Series.2  Unnamed: 3  Unnamed: 4  \\\n",
      "0                                                 NaN         NaN         NaN   \n",
      "1                                                 NaN         NaN      1903.0   \n",
      "2                                                 NaN         NaN         NaN   \n",
      "3                                                 NaN      1912.0      1913.0   \n",
      "4                                                 NaN         NaN         NaN   \n",
      "5                                                 NaN      1922.0      1923.0   \n",
      "6                                                 NaN         NaN         NaN   \n",
      "7                                                 NaN      1932.0      1933.0   \n",
      "8                                                 NaN         NaN         NaN   \n",
      "9                                                 NaN      1942.0      1943.0   \n",
      "10                                                NaN         NaN         NaN   \n",
      "11                                                NaN      1952.0      1953.0   \n",
      "12                                                NaN         NaN         NaN   \n",
      "13                                                NaN      1962.0      1963.0   \n",
      "14                                                NaN         NaN         NaN   \n",
      "15                                                NaN      1972.0      1973.0   \n",
      "16                                                NaN         NaN         NaN   \n",
      "17                                               1982      1983.0      1984.0   \n",
      "18                                                NaN         NaN         NaN   \n",
      "19                                               1992      1993.0      1994.0   \n",
      "20                                                NaN         NaN         NaN   \n",
      "21                                               2002      2003.0      2004.0   \n",
      "22                                                NaN         NaN         NaN   \n",
      "23                                               2012      2013.0      2014.0   \n",
      "24                                                NaN         NaN         NaN   \n",
      "25                                               2022      2023.0      2024.0   \n",
      "26                                                NaN         NaN         NaN   \n",
      "27                                                NaN         NaN         NaN   \n",
      "28                                                NaN         NaN         NaN   \n",
      "29                                                NaN         NaN         NaN   \n",
      "30  Series not held in 1904 because the NL champio...         NaN         NaN   \n",
      "\n",
      "    Unnamed: 5  Unnamed: 6  Unnamed: 7  Unnamed: 8  Unnamed: 9  Unnamed: 10  \n",
      "0          NaN         NaN         NaN         NaN         NaN          NaN  \n",
      "1       1904.0      1905.0      1906.0      1907.0      1908.0       1909.0  \n",
      "2          NaN         NaN         NaN         NaN         NaN          NaN  \n",
      "3       1914.0      1915.0      1916.0      1917.0      1918.0       1919.0  \n",
      "4          NaN         NaN         NaN         NaN         NaN          NaN  \n",
      "5       1924.0      1925.0      1926.0      1927.0      1928.0       1929.0  \n",
      "6          NaN         NaN         NaN         NaN         NaN          NaN  \n",
      "7       1934.0      1935.0      1936.0      1937.0      1938.0       1939.0  \n",
      "8          NaN         NaN         NaN         NaN         NaN          NaN  \n",
      "9       1944.0      1945.0      1946.0      1947.0      1948.0       1949.0  \n",
      "10         NaN         NaN         NaN         NaN         NaN          NaN  \n",
      "11      1954.0      1955.0      1956.0      1957.0      1958.0       1959.0  \n",
      "12         NaN         NaN         NaN         NaN         NaN          NaN  \n",
      "13      1964.0      1965.0      1966.0      1967.0      1968.0       1969.0  \n",
      "14         NaN         NaN         NaN         NaN         NaN          NaN  \n",
      "15      1974.0      1975.0      1976.0      1977.0      1978.0       1979.0  \n",
      "16         NaN         NaN         NaN         NaN         NaN          NaN  \n",
      "17      1985.0      1986.0      1987.0      1988.0      1989.0          NaN  \n",
      "18         NaN         NaN         NaN         NaN         NaN          NaN  \n",
      "19      1995.0      1996.0      1997.0      1998.0      1999.0          NaN  \n",
      "20         NaN         NaN         NaN         NaN         NaN          NaN  \n",
      "21      2005.0      2006.0      2007.0      2008.0      2009.0          NaN  \n",
      "22         NaN         NaN         NaN         NaN         NaN          NaN  \n",
      "23      2015.0      2016.0      2017.0      2018.0      2019.0          NaN  \n",
      "24         NaN         NaN         NaN         NaN         NaN          NaN  \n",
      "25         NaN         NaN         NaN         NaN         NaN          NaN  \n",
      "26         NaN         NaN         NaN         NaN         NaN          NaN  \n",
      "27         NaN         NaN         NaN         NaN         NaN          NaN  \n",
      "28         NaN         NaN         NaN         NaN         NaN          NaN  \n",
      "29         NaN         NaN         NaN         NaN         NaN          NaN  \n",
      "30         NaN         NaN         NaN         NaN         NaN          NaN  ,     0   1   2     3     4     5     6     7     8     9\n",
      "0 NaN NaN NaN  1903  1904  1905  1906  1907  1908  1909,       0     1     2     3     4     5     6     7     8     9\n",
      "0  1910  1911  1912  1913  1914  1915  1916  1917  1918  1919,       0     1     2     3     4     5     6     7     8     9\n",
      "0  1920  1921  1922  1923  1924  1925  1926  1927  1928  1929,       0     1     2     3     4     5     6     7     8     9\n",
      "0  1930  1931  1932  1933  1934  1935  1936  1937  1938  1939,       0     1     2     3     4     5     6     7     8     9\n",
      "0  1940  1941  1942  1943  1944  1945  1946  1947  1948  1949,       0     1     2     3     4     5     6     7     8     9\n",
      "0  1950  1951  1952  1953  1954  1955  1956  1957  1958  1959,       0     1     2     3     4     5     6     7     8     9\n",
      "0  1960  1961  1962  1963  1964  1965  1966  1967  1968  1969,       0     1     2     3     4     5     6     7     8     9\n",
      "0  1970  1971  1972  1973  1974  1975  1976  1977  1978  1979,       0     1     2     3     4     5     6     7     8     9\n",
      "0  1980  1981  1982  1983  1984  1985  1986  1987  1988  1989,       0     1     2     3     4     5     6     7     8     9\n",
      "0  1990  1991  1992  1993  1994  1995  1996  1997  1998  1999,       0     1     2     3     4     5     6     7     8     9\n",
      "0  2000  2001  2002  2003  2004  2005  2006  2007  2008  2009,       0     1     2     3     4     5     6     7     8     9\n",
      "0  2010  2011  2012  2013  2014  2015  2016  2017  2018  2019,       0     1     2     3     4   5   6   7   8   9\n",
      "0  2020  2021  2022  2023  2024 NaN NaN NaN NaN NaN,                 0                            1\n",
      "0  Notable events  1989 Loma Prieta earthquake,         vteMajor League Baseball awards and trophies  \\\n",
      "0                                               Team   \n",
      "1                                         Individual   \n",
      "2                                             Annual   \n",
      "3                                            Monthly   \n",
      "4                                             Weekly   \n",
      "5                                            Defunct   \n",
      "6                                              Other   \n",
      "7  Category:Major League Baseball awards  Portal:...   \n",
      "\n",
      "      vteMajor League Baseball awards and trophies.1  \n",
      "0  Commissioner's Trophy (list of winners) Warren...  \n",
      "1  Annual Most Valuable Player (MVP) Cy Young Exe...  \n",
      "2  Most Valuable Player (MVP) Cy Young Executive ...  \n",
      "3  Player of the Month Pitcher of the Month Relie...  \n",
      "4                                 Player of the Week  \n",
      "5  Defensive Player of the Year Delivery Man of t...  \n",
      "6          Commissioner's Historic Achievement Award  \n",
      "7  Category:Major League Baseball awards  Portal:...  ,          0                                                  1\n",
      "0   Annual  Most Valuable Player (MVP) Cy Young Executive ...\n",
      "1  Monthly  Player of the Month Pitcher of the Month Relie...\n",
      "2   Weekly                                 Player of the Week\n",
      "3  Defunct  Defensive Player of the Year Delivery Man of t...]\n"
     ]
    },
    {
     "name": "stderr",
     "output_type": "stream",
     "text": [
      "/var/folders/mw/4snkpx0970n_6rz3jtvq4yxr0000gn/T/ipykernel_38082/4121797109.py:5: FutureWarning: Passing literal html to 'read_html' is deprecated and will be removed in a future version. To read from a literal string, wrap it in a 'StringIO' object.\n",
      "  tables = pd.read_html(html_source.text)\n"
     ]
    }
   ],
   "source": [
    "target_url = 'https://en.wikipedia.org/wiki/List_of_World_Series_champions'\n",
    "html_source = requests.get(target_url)\n",
    "html_source.status_code\n",
    "html_source.text\n",
    "tables = pd.read_html(html_source.text)\n",
    "print(tables)"
   ]
  },
  {
   "cell_type": "markdown",
   "metadata": {
    "id": "RPAiydb8RxRL"
   },
   "source": [
    "2: How many tables have you read in? List the columns of the table containing the world series results."
   ]
  },
  {
   "cell_type": "code",
   "execution_count": 133,
   "metadata": {
    "id": "TvJPQQ3xr6Jf"
   },
   "outputs": [
    {
     "name": "stdout",
     "output_type": "stream",
     "text": [
      "Number of tables read: 27\n",
      "\n",
      "The columns of the World Series Table are: Index(['Year', 'Winning team', 'Manager', 'Series', 'Losing team', 'Manager.1',\n",
      "       'Unnamed: 6', 'Unnamed: 7'],\n",
      "      dtype='object')\n"
     ]
    }
   ],
   "source": [
    "print(f\"Number of tables read: {len(tables)}\\n\")\n",
    "for i, table in enumerate(tables):\n",
    "    # print(f\"Table {i+1} Columns: {table.columns.tolist()}\\n\")\n",
    "    if 'Series' in table.columns:\n",
    "        world_series_table = table\n",
    "        break\n",
    "\n",
    "print(f\"The columns of the World Series Table are: {world_series_table.columns}\")\n"
   ]
  },
  {
   "cell_type": "markdown",
   "metadata": {
    "id": "whdciWNbCTJf"
   },
   "source": [
    "3: List all the world series records that a team from Philadelphia played.  "
   ]
  },
  {
   "cell_type": "code",
   "execution_count": null,
   "metadata": {
    "id": "OVmoxKLur61l"
   },
   "outputs": [],
   "source": []
  },
  {
   "cell_type": "markdown",
   "metadata": {
    "id": "KaeXruD9Dho2"
   },
   "source": [
    "4: What is the winning probability of the Phillies?"
   ]
  },
  {
   "cell_type": "code",
   "execution_count": 134,
   "metadata": {
    "id": "XXCRrzcsr73y"
   },
   "outputs": [
    {
     "name": "stdout",
     "output_type": "stream",
     "text": [
      "The winning probability of the Phillies is: 25.00%\n"
     ]
    }
   ],
   "source": [
    "for i, table in enumerate(tables):\n",
    "    # print(f\"Table {i+1} Columns: {table.columns.tolist()}\\n\")\n",
    "    if 'Win\\xa0%' in table.columns:\n",
    "        world_series_records_by_franchise = table\n",
    "        break\n",
    "\n",
    "phillies_win_percentage = world_series_records_by_franchise.loc[world_series_records_by_franchise['Team'] == 'Philadelphia Phillies', 'Win\\xa0%']\n",
    "print(f\"The winning probability of the Phillies is: {(float(phillies_win_percentage.iloc[0]) * 100):.2f}%\")"
   ]
  },
  {
   "cell_type": "markdown",
   "metadata": {
    "id": "_YaTy4PEE7C_"
   },
   "source": [
    "# Exercise 2"
   ]
  },
  {
   "cell_type": "markdown",
   "metadata": {
    "id": "BQ_7cK7hGs6O"
   },
   "source": [
    "1: Read in the roam_prescription_based_prediction.jsonl using Pandas. This is the dataset used in the Roam blog post Prescription-based prediction. The file is in JSONL format (one JSON record per line). Show the size of the data, columns, etc."
   ]
  },
  {
   "cell_type": "code",
   "execution_count": 135,
   "metadata": {
    "id": "IxIlx9-wr-so"
   },
   "outputs": [
    {
     "name": "stdout",
     "output_type": "stream",
     "text": [
      "Number of Rows of the dataframe: 239930\n",
      "\n",
      "Number of Columns of the dataframe: 3\n",
      "\n",
      "Columns of the dataframe: Index(['cms_prescription_counts', 'provider_variables', 'npi'], dtype='object')\n",
      "\n",
      "Displaying the first 5 values of the dataframe:                              cms_prescription_counts  \\\n",
      "0  {'DOXAZOSIN MESYLATE': 26, 'MIDODRINE HCL': 12...   \n",
      "1  {'CEPHALEXIN': 23, 'AMOXICILLIN': 52, 'HYDROCO...   \n",
      "2  {'CEPHALEXIN': 28, 'AMOXICILLIN': 73, 'CLINDAM...   \n",
      "3                                {'AMOXICILLIN': 63}   \n",
      "4  {'PIOGLITAZONE HCL': 24, 'BENAZEPRIL HCL': 29,...   \n",
      "\n",
      "                                  provider_variables         npi  \n",
      "0  {'settlement_type': 'non-urban', 'generic_rx_c...  1295763035  \n",
      "1  {'settlement_type': 'non-urban', 'generic_rx_c...  1992715205  \n",
      "2  {'settlement_type': 'non-urban', 'generic_rx_c...  1578587630  \n",
      "3  {'settlement_type': 'non-urban', 'generic_rx_c...  1932278405  \n",
      "4  {'settlement_type': 'non-urban', 'generic_rx_c...  1437366804  \n",
      "\n",
      "                npi\n",
      "count  2.399300e+05\n",
      "mean   1.500000e+09\n",
      "std    2.878876e+08\n",
      "min    1.003000e+09\n",
      "25%    1.245543e+09\n",
      "50%    1.508072e+09\n",
      "75%    1.740572e+09\n",
      "max    1.993000e+09\n"
     ]
    }
   ],
   "source": [
    "df = pd.read_json(\"/Users/mustafabookwala/Desktop/Drexel/Pre-Junior/Fall 2024/INFO 212/Week 9/roam_prescription_based_prediction.jsonl\", lines=True)\n",
    "\n",
    "print(f\"Number of Rows of the dataframe: {df.shape[0]}\\n\")\n",
    "print(f\"Number of Columns of the dataframe: {df.shape[1]}\\n\")\n",
    "print(f\"Columns of the dataframe: {df.columns}\\n\")\n",
    "print(f\"Displaying the first 5 values of the dataframe: {df.head()}\\n\")\n",
    "print(f\"{df.describe()}\")"
   ]
  },
  {
   "cell_type": "markdown",
   "metadata": {
    "id": "y69UWmauIJZ0"
   },
   "source": [
    "2: Extract the first 10,000 provider information as a DataFrame called `providers`. Set the index to be the npi."
   ]
  },
  {
   "cell_type": "code",
   "execution_count": 136,
   "metadata": {
    "id": "X6l7QRQhsArY"
   },
   "outputs": [
    {
     "name": "stdout",
     "output_type": "stream",
     "text": [
      "                                           provider_variables\n",
      "npi                                                          \n",
      "1295763035  {'settlement_type': 'non-urban', 'generic_rx_c...\n",
      "1992715205  {'settlement_type': 'non-urban', 'generic_rx_c...\n",
      "1578587630  {'settlement_type': 'non-urban', 'generic_rx_c...\n",
      "1932278405  {'settlement_type': 'non-urban', 'generic_rx_c...\n",
      "1437366804  {'settlement_type': 'non-urban', 'generic_rx_c...\n",
      "...                                                       ...\n",
      "1700873247  {'settlement_type': 'non-urban', 'generic_rx_c...\n",
      "1689729568  {'settlement_type': 'urban', 'generic_rx_count...\n",
      "1649455882  {'settlement_type': 'non-urban', 'generic_rx_c...\n",
      "1396938197  {'settlement_type': 'non-urban', 'generic_rx_c...\n",
      "1588704415  {'settlement_type': 'urban', 'generic_rx_count...\n",
      "\n",
      "[10000 rows x 1 columns]\n"
     ]
    }
   ],
   "source": [
    "providers = df.loc[:9999, [\"provider_variables\", \"npi\"]]\n",
    "providers.set_index('npi', inplace=True)\n",
    "print(providers)"
   ]
  },
  {
   "cell_type": "markdown",
   "metadata": {
    "id": "hcllNVC0Jaa-"
   },
   "source": [
    "3: Extract first 10,000 prescription counts as a DataFrame called `pres`. Set the index to be the npi."
   ]
  },
  {
   "cell_type": "code",
   "execution_count": 137,
   "metadata": {
    "id": "xR5MmgC4sBLN"
   },
   "outputs": [
    {
     "name": "stdout",
     "output_type": "stream",
     "text": [
      "                                      cms_prescription_counts\n",
      "npi                                                          \n",
      "1295763035  {'DOXAZOSIN MESYLATE': 26, 'MIDODRINE HCL': 12...\n",
      "1992715205  {'CEPHALEXIN': 23, 'AMOXICILLIN': 52, 'HYDROCO...\n",
      "1578587630  {'CEPHALEXIN': 28, 'AMOXICILLIN': 73, 'CLINDAM...\n",
      "1932278405                                {'AMOXICILLIN': 63}\n",
      "1437366804  {'PIOGLITAZONE HCL': 24, 'BENAZEPRIL HCL': 29,...\n",
      "...                                                       ...\n",
      "1700873247  {'DILTIAZEM 24HR ER': 49, 'ENALAPRIL MALEATE':...\n",
      "1689729568                                      {'CREON': 14}\n",
      "1649455882                                  {'IBUPROFEN': 24}\n",
      "1396938197  {'FLUOXETINE HCL': 19, 'SIMVASTATIN': 32, 'NOV...\n",
      "1588704415  {'SERTRALINE HCL': 22, 'TRAZODONE HCL': 17, 'S...\n",
      "\n",
      "[10000 rows x 1 columns]\n"
     ]
    }
   ],
   "source": [
    "pres = df.loc[:9999, [\"cms_prescription_counts\", \"npi\"]]\n",
    "pres.set_index('npi', inplace=True)\n",
    "print(pres)"
   ]
  },
  {
   "cell_type": "markdown",
   "metadata": {
    "id": "i5UzpLjtHA0R"
   },
   "source": [
    "4: Join `providers` with `pres` on npi. Extract the providers' info\n",
    "\n",
    "*   List item\n",
    "*   List item\n",
    "\n",
    "who prescribed the most number of DIAZEPAM."
   ]
  },
  {
   "cell_type": "code",
   "execution_count": 138,
   "metadata": {},
   "outputs": [
    {
     "name": "stdout",
     "output_type": "stream",
     "text": [
      "provider_npi: 1730150194\n",
      "DIAZEPAM count: 1327\n",
      "settlement_type: non-urban\n",
      "generic_rx_count: 23842\n",
      "specialty: Interventional Pain Medicine\n",
      "years_practicing: 7\n",
      "gender: M\n",
      "region: South\n",
      "brand_name_rx_count: 3264\n"
     ]
    }
   ],
   "source": [
    "providers_and_pres = pd.concat([providers, pres], axis=1)\n",
    "providers_and_pres.index = providers_and_pres.index.astype(str)\n",
    "\n",
    "diazepam_counts = []\n",
    "\n",
    "for index in providers_and_pres.index:\n",
    "    cms_counts = providers_and_pres.loc[index, 'cms_prescription_counts']\n",
    "    if 'DIAZEPAM' in cms_counts:\n",
    "        count = cms_counts['DIAZEPAM']\n",
    "    else:\n",
    "        count = 0\n",
    "    diazepam_counts.append((index, count))\n",
    "\n",
    "diazepam = pd.DataFrame(diazepam_counts, columns=['npi', 'DIAZEPAM_count'])\n",
    "diazepam.set_index('npi', inplace=True)\n",
    "diazepam.index = diazepam.index.astype(str)\n",
    "\n",
    "providers_and_pres = providers_and_pres.merge(diazepam, left_index=True, right_index=True)\n",
    "\n",
    "max_diazepam_providers = providers_and_pres[providers_and_pres['DIAZEPAM_count'] == providers_and_pres['DIAZEPAM_count'].max()]\n",
    "\n",
    "for index in max_diazepam_providers.index:\n",
    "    provider_info = max_diazepam_providers.loc[index, 'provider_variables']\n",
    "    print(f\"provider_npi: {index}\")\n",
    "    print(f\"DIAZEPAM count: {max_diazepam_providers['DIAZEPAM_count'].max()}\")\n",
    "    for key, value in provider_info.items():\n",
    "        print(f\"{key}: {value}\")\n"
   ]
  }
 ],
 "metadata": {
  "colab": {
   "provenance": []
  },
  "kernelspec": {
   "display_name": "Python 3",
   "language": "python",
   "name": "python3"
  },
  "language_info": {
   "codemirror_mode": {
    "name": "ipython",
    "version": 3
   },
   "file_extension": ".py",
   "mimetype": "text/x-python",
   "name": "python",
   "nbconvert_exporter": "python",
   "pygments_lexer": "ipython3",
   "version": "3.12.0"
  }
 },
 "nbformat": 4,
 "nbformat_minor": 0
}
