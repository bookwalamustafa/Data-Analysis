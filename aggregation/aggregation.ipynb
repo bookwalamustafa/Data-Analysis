{
 "cells": [
  {
   "cell_type": "markdown",
   "metadata": {
    "id": "aWL1iSNqF4kn"
   },
   "source": [
    "# INFO 212: Data Science Programming 1\n",
    "## CCI at Drexel University\n",
    "\n",
    "\n",
    "## Lab: Aggregation\n"
   ]
  },
  {
   "cell_type": "markdown",
   "metadata": {
    "id": "xB2CNMx2CZGV"
   },
   "source": [
    "## What to do:\n",
    "- Answer each question individually.\n",
    "- Comment on each single statement.\n",
    "- Each missing comment will be penalized by 1 point.\n",
    "- Verify the code by showing meaningful results."
   ]
  },
  {
   "cell_type": "code",
   "execution_count": 51,
   "metadata": {
    "id": "8qmCstinKCwj"
   },
   "outputs": [],
   "source": [
    "# Importing neccessary libraries\n",
    "import pandas as pd\n",
    "import numpy as np\n",
    "import matplotlib.pyplot as plt\n",
    "import seaborn as sns"
   ]
  },
  {
   "cell_type": "markdown",
   "metadata": {
    "id": "0I9vgb0_uGxm"
   },
   "source": [
    "## Exercise 1\n",
    "For the following analysis tasks. feel free to use visualization to illustrate the results."
   ]
  },
  {
   "cell_type": "markdown",
   "metadata": {
    "id": "1fDoqVCT4XQB"
   },
   "source": [
    "1. Download and upload the train.csv. Create a DataFrame df from the data set. Show information of the DataFrame."
   ]
  },
  {
   "cell_type": "code",
   "execution_count": 52,
   "metadata": {
    "id": "BvTmwlcOKBf9"
   },
   "outputs": [
    {
     "name": "stdout",
     "output_type": "stream",
     "text": [
      "Index(['PassengerId', 'Survived', 'Pclass', 'Name', 'Sex', 'Age', 'SibSp',\n",
      "       'Parch', 'Ticket', 'Fare', 'Cabin', 'Embarked'],\n",
      "      dtype='object')\n",
      "\n",
      "(891, 12)\n",
      "\n",
      "       PassengerId    Survived      Pclass         Age       SibSp  \\\n",
      "count   891.000000  891.000000  891.000000  714.000000  891.000000   \n",
      "mean    446.000000    0.383838    2.308642   29.699118    0.523008   \n",
      "std     257.353842    0.486592    0.836071   14.526497    1.102743   \n",
      "min       1.000000    0.000000    1.000000    0.420000    0.000000   \n",
      "25%     223.500000    0.000000    2.000000   20.125000    0.000000   \n",
      "50%     446.000000    0.000000    3.000000   28.000000    0.000000   \n",
      "75%     668.500000    1.000000    3.000000   38.000000    1.000000   \n",
      "max     891.000000    1.000000    3.000000   80.000000    8.000000   \n",
      "\n",
      "            Parch        Fare  \n",
      "count  891.000000  891.000000  \n",
      "mean     0.381594   32.204208  \n",
      "std      0.806057   49.693429  \n",
      "min      0.000000    0.000000  \n",
      "25%      0.000000    7.910400  \n",
      "50%      0.000000   14.454200  \n",
      "75%      0.000000   31.000000  \n",
      "max      6.000000  512.329200  \n"
     ]
    }
   ],
   "source": [
    "df = pd.read_csv(\"/Users/mustafabookwala/Desktop/Drexel/Pre-Junior/Fall 2024/INFO 212/Week 7/train(1).csv\")  # Loading file as a dataframe\n",
    "print(f\"{df.columns}\\n\")  # Displaying its column names\n",
    "print(f\"{df.shape}\\n\")  # Displaying its shape (number of rows and columns)\n",
    "print(f\"{df.describe()}\")  # Describing column statistics"
   ]
  },
  {
   "cell_type": "markdown",
   "metadata": {
    "id": "6-2Sr_SR4zzO"
   },
   "source": [
    "2. The Survived column has binary values 1 and 0. Compute the average Survived rate grouped by Pclass in ascending order. Discuss insights you can draw from the results."
   ]
  },
  {
   "cell_type": "code",
   "execution_count": null,
   "metadata": {
    "id": "BgWCbxd012sH"
   },
   "outputs": [
    {
     "name": "stdout",
     "output_type": "stream",
     "text": [
      "Average Survival Rate for Pclass 3: 24.24%\n",
      "Average Survival Rate for Pclass 2: 47.28%\n",
      "Average Survival Rate for Pclass 1: 62.96%\n"
     ]
    }
   ],
   "source": [
    "# Group the data by passenger class and calculate the mean survival rate for each class\n",
    "average_survival_rate_by_pclass = df.groupby('Pclass')['Survived'].mean().sort_values()\n",
    "\n",
    "# Loop through each passenger class and the average survival rate\n",
    "for p_class, mean in average_survival_rate_by_pclass.items():\n",
    "    # Display the average survival rate for each class\n",
    "    print(f\"Average Survival Rate for Pclass {p_class}: {mean:.2%}\")"
   ]
  },
  {
   "cell_type": "markdown",
   "metadata": {},
   "source": [
    "# Insights for Question 2:\n",
    "1. **Higher Class Advantage**: First Class passengers had the highest survival rate, followed by Second and Third, showing an advantage in survival with higher class.\n",
    "\n",
    "2. **Priority in Evacuation**: The low Third Class survival rate could possibly indicate restricted access to assistance, reflecting class-based evacuation priorities."
   ]
  },
  {
   "cell_type": "markdown",
   "metadata": {
    "id": "T1KDoZmrdvyI"
   },
   "source": [
    "3. The Survived column has binary values 1 and 0. Compute the average Survived rate grouped by Pclass and Cabin. Show the results in Survived rate ascending order within each Pclass group. Discuss insights you can draw from the results."
   ]
  },
  {
   "cell_type": "code",
   "execution_count": null,
   "metadata": {
    "id": "BaKVRuoH15te"
   },
   "outputs": [
    {
     "name": "stdout",
     "output_type": "stream",
     "text": [
      "Average Survival Rate for Pclass 1, Cabin A10: 0.00%\n",
      "Average Survival Rate for Pclass 1, Cabin B38: 0.00%\n",
      "Average Survival Rate for Pclass 1, Cabin C111: 0.00%\n",
      "Average Survival Rate for Pclass 1, Cabin D30: 0.00%\n",
      "Average Survival Rate for Pclass 1, Cabin D26: 0.00%\n",
      "Average Survival Rate for Pclass 1, Cabin C95: 0.00%\n",
      "Average Survival Rate for Pclass 1, Cabin C91: 0.00%\n",
      "Average Survival Rate for Pclass 1, Cabin C87: 0.00%\n",
      "Average Survival Rate for Pclass 1, Cabin C86: 0.00%\n",
      "Average Survival Rate for Pclass 1, Cabin C82: 0.00%\n",
      "Average Survival Rate for Pclass 1, Cabin B37: 0.00%\n",
      "Average Survival Rate for Pclass 1, Cabin B71: 0.00%\n",
      "Average Survival Rate for Pclass 1, Cabin C49: 0.00%\n",
      "Average Survival Rate for Pclass 1, Cabin C46: 0.00%\n",
      "Average Survival Rate for Pclass 1, Cabin C30: 0.00%\n",
      "Average Survival Rate for Pclass 1, Cabin B82 B84: 0.00%\n",
      "Average Survival Rate for Pclass 1, Cabin B86: 0.00%\n",
      "Average Survival Rate for Pclass 1, Cabin B94: 0.00%\n",
      "Average Survival Rate for Pclass 1, Cabin C128: 0.00%\n",
      "Average Survival Rate for Pclass 1, Cabin C124: 0.00%\n",
      "Average Survival Rate for Pclass 1, Cabin C110: 0.00%\n",
      "Average Survival Rate for Pclass 3, Cabin F38: 0.00%\n",
      "Average Survival Rate for Pclass 1, Cabin D48: 0.00%\n",
      "Average Survival Rate for Pclass 1, Cabin D46: 0.00%\n",
      "Average Survival Rate for Pclass 1, Cabin D50: 0.00%\n",
      "Average Survival Rate for Pclass 1, Cabin A14: 0.00%\n",
      "Average Survival Rate for Pclass 3, Cabin F G73: 0.00%\n",
      "Average Survival Rate for Pclass 1, Cabin A19: 0.00%\n",
      "Average Survival Rate for Pclass 3, Cabin F G63: 0.00%\n",
      "Average Survival Rate for Pclass 2, Cabin E77: 0.00%\n",
      "Average Survival Rate for Pclass 1, Cabin A24: 0.00%\n",
      "Average Survival Rate for Pclass 1, Cabin T: 0.00%\n",
      "Average Survival Rate for Pclass 1, Cabin A32: 0.00%\n",
      "Average Survival Rate for Pclass 1, Cabin E63: 0.00%\n",
      "Average Survival Rate for Pclass 1, Cabin B30: 0.00%\n",
      "Average Survival Rate for Pclass 1, Cabin A36: 0.00%\n",
      "Average Survival Rate for Pclass 1, Cabin C118: 0.00%\n",
      "Average Survival Rate for Pclass 1, Cabin A5: 0.00%\n",
      "Average Survival Rate for Pclass 1, Cabin D6: 0.00%\n",
      "Average Survival Rate for Pclass 1, Cabin E58: 0.00%\n",
      "Average Survival Rate for Pclass 1, Cabin A7: 0.00%\n",
      "Average Survival Rate for Pclass 1, Cabin E31: 0.00%\n",
      "Average Survival Rate for Pclass 1, Cabin E46: 0.00%\n",
      "Average Survival Rate for Pclass 1, Cabin B102: 0.00%\n",
      "Average Survival Rate for Pclass 1, Cabin E38: 0.00%\n",
      "Average Survival Rate for Pclass 1, Cabin B19: 0.00%\n",
      "Average Survival Rate for Pclass 1, Cabin C22 C26: 33.33%\n",
      "Average Survival Rate for Pclass 1, Cabin C68: 50.00%\n",
      "Average Survival Rate for Pclass 1, Cabin C2: 50.00%\n",
      "Average Survival Rate for Pclass 1, Cabin E44: 50.00%\n",
      "Average Survival Rate for Pclass 1, Cabin C78: 50.00%\n",
      "Average Survival Rate for Pclass 1, Cabin E67: 50.00%\n",
      "Average Survival Rate for Pclass 1, Cabin C83: 50.00%\n",
      "Average Survival Rate for Pclass 1, Cabin C23 C25 C27: 50.00%\n",
      "Average Survival Rate for Pclass 1, Cabin C65: 50.00%\n",
      "Average Survival Rate for Pclass 3, Cabin G6: 50.00%\n",
      "Average Survival Rate for Pclass 1, Cabin B58 B60: 50.00%\n",
      "Average Survival Rate for Pclass 1, Cabin B22: 50.00%\n",
      "Average Survival Rate for Pclass 1, Cabin B51 B53 B55: 50.00%\n",
      "Average Survival Rate for Pclass 1, Cabin C123: 50.00%\n",
      "Average Survival Rate for Pclass 2, Cabin F2: 66.67%\n",
      "Average Survival Rate for Pclass 2, Cabin D: 66.67%\n",
      "Average Survival Rate for Pclass 3, Cabin E121: 100.00%\n",
      "Average Survival Rate for Pclass 1, Cabin E34: 100.00%\n",
      "Average Survival Rate for Pclass 1, Cabin E33: 100.00%\n",
      "Average Survival Rate for Pclass 1, Cabin A16: 100.00%\n",
      "Average Survival Rate for Pclass 1, Cabin E25: 100.00%\n",
      "Average Survival Rate for Pclass 1, Cabin E24: 100.00%\n",
      "Average Survival Rate for Pclass 1, Cabin E17: 100.00%\n",
      "Average Survival Rate for Pclass 1, Cabin E12: 100.00%\n",
      "Average Survival Rate for Pclass 1, Cabin D9: 100.00%\n",
      "Average Survival Rate for Pclass 1, Cabin D7: 100.00%\n",
      "Average Survival Rate for Pclass 1, Cabin B28: 100.00%\n",
      "Average Survival Rate for Pclass 1, Cabin B3: 100.00%\n",
      "Average Survival Rate for Pclass 1, Cabin D49: 100.00%\n",
      "Average Survival Rate for Pclass 1, Cabin B35: 100.00%\n",
      "Average Survival Rate for Pclass 1, Cabin D47: 100.00%\n",
      "Average Survival Rate for Pclass 1, Cabin B39: 100.00%\n",
      "Average Survival Rate for Pclass 1, Cabin D45: 100.00%\n",
      "Average Survival Rate for Pclass 1, Cabin E36: 100.00%\n",
      "Average Survival Rate for Pclass 1, Cabin B20: 100.00%\n",
      "Average Survival Rate for Pclass 1, Cabin A20: 100.00%\n",
      "Average Survival Rate for Pclass 3, Cabin F E69: 100.00%\n",
      "Average Survival Rate for Pclass 3, Cabin E10: 100.00%\n",
      "Average Survival Rate for Pclass 2, Cabin F4: 100.00%\n",
      "Average Survival Rate for Pclass 2, Cabin F33: 100.00%\n",
      "Average Survival Rate for Pclass 1, Cabin A23: 100.00%\n",
      "Average Survival Rate for Pclass 2, Cabin E101: 100.00%\n",
      "Average Survival Rate for Pclass 2, Cabin D56: 100.00%\n",
      "Average Survival Rate for Pclass 1, Cabin A26: 100.00%\n",
      "Average Survival Rate for Pclass 1, Cabin E8: 100.00%\n",
      "Average Survival Rate for Pclass 1, Cabin E68: 100.00%\n",
      "Average Survival Rate for Pclass 1, Cabin A31: 100.00%\n",
      "Average Survival Rate for Pclass 1, Cabin A34: 100.00%\n",
      "Average Survival Rate for Pclass 1, Cabin A6: 100.00%\n",
      "Average Survival Rate for Pclass 1, Cabin E50: 100.00%\n",
      "Average Survival Rate for Pclass 1, Cabin E49: 100.00%\n",
      "Average Survival Rate for Pclass 1, Cabin B101: 100.00%\n",
      "Average Survival Rate for Pclass 1, Cabin D37: 100.00%\n",
      "Average Survival Rate for Pclass 1, Cabin B18: 100.00%\n",
      "Average Survival Rate for Pclass 1, Cabin E40: 100.00%\n",
      "Average Survival Rate for Pclass 1, Cabin C106: 100.00%\n",
      "Average Survival Rate for Pclass 1, Cabin D35: 100.00%\n",
      "Average Survival Rate for Pclass 1, Cabin D33: 100.00%\n",
      "Average Survival Rate for Pclass 1, Cabin B73: 100.00%\n",
      "Average Survival Rate for Pclass 1, Cabin B77: 100.00%\n",
      "Average Survival Rate for Pclass 1, Cabin C54: 100.00%\n",
      "Average Survival Rate for Pclass 1, Cabin C52: 100.00%\n",
      "Average Survival Rate for Pclass 1, Cabin C50: 100.00%\n",
      "Average Survival Rate for Pclass 1, Cabin B78: 100.00%\n",
      "Average Survival Rate for Pclass 1, Cabin C47: 100.00%\n",
      "Average Survival Rate for Pclass 1, Cabin B79: 100.00%\n",
      "Average Survival Rate for Pclass 1, Cabin B69: 100.00%\n",
      "Average Survival Rate for Pclass 1, Cabin C45: 100.00%\n",
      "Average Survival Rate for Pclass 1, Cabin B80: 100.00%\n",
      "Average Survival Rate for Pclass 1, Cabin B96 B98: 100.00%\n",
      "Average Survival Rate for Pclass 1, Cabin C101: 100.00%\n",
      "Average Survival Rate for Pclass 1, Cabin C103: 100.00%\n",
      "Average Survival Rate for Pclass 1, Cabin C148: 100.00%\n",
      "Average Survival Rate for Pclass 1, Cabin C104: 100.00%\n",
      "Average Survival Rate for Pclass 1, Cabin C126: 100.00%\n",
      "Average Survival Rate for Pclass 1, Cabin C125: 100.00%\n",
      "Average Survival Rate for Pclass 1, Cabin C32: 100.00%\n",
      "Average Survival Rate for Pclass 1, Cabin C7: 100.00%\n",
      "Average Survival Rate for Pclass 1, Cabin C70: 100.00%\n",
      "Average Survival Rate for Pclass 1, Cabin B57 B59 B63 B66: 100.00%\n",
      "Average Survival Rate for Pclass 1, Cabin B4: 100.00%\n",
      "Average Survival Rate for Pclass 1, Cabin D28: 100.00%\n",
      "Average Survival Rate for Pclass 1, Cabin B41: 100.00%\n",
      "Average Survival Rate for Pclass 1, Cabin D21: 100.00%\n",
      "Average Survival Rate for Pclass 1, Cabin D20: 100.00%\n",
      "Average Survival Rate for Pclass 1, Cabin D19: 100.00%\n",
      "Average Survival Rate for Pclass 1, Cabin D17: 100.00%\n",
      "Average Survival Rate for Pclass 1, Cabin D15: 100.00%\n",
      "Average Survival Rate for Pclass 1, Cabin D11: 100.00%\n",
      "Average Survival Rate for Pclass 1, Cabin D10 D12: 100.00%\n",
      "Average Survival Rate for Pclass 1, Cabin C99: 100.00%\n",
      "Average Survival Rate for Pclass 1, Cabin B42: 100.00%\n",
      "Average Survival Rate for Pclass 1, Cabin C93: 100.00%\n",
      "Average Survival Rate for Pclass 1, Cabin C92: 100.00%\n",
      "Average Survival Rate for Pclass 1, Cabin B49: 100.00%\n",
      "Average Survival Rate for Pclass 1, Cabin C90: 100.00%\n",
      "Average Survival Rate for Pclass 1, Cabin B5: 100.00%\n",
      "Average Survival Rate for Pclass 1, Cabin B50: 100.00%\n",
      "Average Survival Rate for Pclass 1, Cabin C85: 100.00%\n",
      "Average Survival Rate for Pclass 1, Cabin D36: 100.00%\n",
      "Average Survival Rate for Pclass 1, Cabin C62 C64: 100.00%\n"
     ]
    }
   ],
   "source": [
    "# Group the data by both passenger class and cabin, and calculate the mean survival rate for each combination\n",
    "average_survival_rate_by_pclass_cabin = df.groupby(['Pclass', 'Cabin'])['Survived'].mean()\n",
    "\n",
    "# Sort the survival rates in ascending order from lowest to highest survival rates\n",
    "average_survival_rate_by_pclass_cabin = average_survival_rate_by_pclass_cabin.sort_values(ascending=True)\n",
    "\n",
    "# Loop through each combination and the average survival rate\n",
    "for (p_class, cabin), mean in average_survival_rate_by_pclass_cabin.items():\n",
    "    # Display the average survival rate for each class and cabin combination\n",
    "    print(f\"Average Survival Rate for Pclass {p_class}, Cabin {cabin}: {mean:.2%}\")"
   ]
  },
  {
   "cell_type": "markdown",
   "metadata": {},
   "source": [
    "# Insights for Question 3:\n",
    "1. **High Survival in Specific Cabins**: Many First Class cabins had a 100% survival rate, indicating possible priority in evacuation for these high-status cabins.\n",
    "\n",
    "2. **Mixed Survival Rates in First Class**: Despite First Class priority, some cabins, such as A10 and C110, had 0% survival, demonstrating variability based on cabin location or accessibility during evacuation.\n",
    "\n",
    "3. **Lower Class Limitations**: Few Third Class cabins show survival rates above 0%, reflecting restricted access to safety resources and a likely disadvantage in reaching lifeboats.\n"
   ]
  },
  {
   "cell_type": "markdown",
   "metadata": {
    "id": "_Fy8DCfbgenP"
   },
   "source": [
    "4. Define a function taking a DataFrame, Age column, and index as paramenter. The function categorizes Ages into Young, Middle_aged, and Senior category. Compute the Survived rate for each age group in descending order. Discuss insights you can draw from the results."
   ]
  },
  {
   "cell_type": "code",
   "execution_count": 58,
   "metadata": {
    "id": "OIqdCdMSGBtR"
   },
   "outputs": [
    {
     "name": "stdout",
     "output_type": "stream",
     "text": [
      "Survival Rate for Middle_aged: 41.78%\n",
      "Survival Rate for Young: 39.52%\n",
      "Survival Rate for Senior: 26.92%\n"
     ]
    }
   ],
   "source": [
    "# Function to categorize age into groups\n",
    "def ageTypes(df, ind, col='Age'):\n",
    "    # Get the age of the individual at the specified index\n",
    "    age = df[col].loc[ind]\n",
    "    # Check if the age value is missing (NaN), if so, return 'Unknown'\n",
    "    if pd.isnull(age):\n",
    "        return 'Unknown'\n",
    "    # Seggregate as 'Young' if age is less than 30\n",
    "    elif age < 30:\n",
    "        return 'Young'\n",
    "    # Seggregate as 'Middle_aged' if age is less than 60 but at least 30\n",
    "    elif age < 60:\n",
    "        return 'Middle_aged'\n",
    "    # Seggregate as 'Senior' if age is 60 or above\n",
    "    else:\n",
    "        return 'Senior'\n",
    "\n",
    "# Group the data by age categories generated by the ageTypes function and calculate the mean survival rate for each group\n",
    "survival_rates = df[['Age', 'Survived']].groupby(lambda indx: ageTypes(df, indx, 'Age'))['Survived'].mean().sort_values(ascending=False)\n",
    "\n",
    "# Loop through each age group and the survival rate\n",
    "for age_group, rate in survival_rates.items():\n",
    "    # Display the survival rate for each age group\n",
    "    print(f\"Survival Rate for {age_group}: {rate:.2%}\")"
   ]
  },
  {
   "cell_type": "markdown",
   "metadata": {},
   "source": [
    "# Insights for Question 4:\n",
    "1. **Middle-aged Survival Advantage**: Middle-aged passengers had the highest survival rate, possibly due to capability and priority in rescue.\n",
    "\n",
    "2. **Young Group**: The Young group had a similar survival rate, suggesting that children may have also received priority or must have been more agile.\n",
    "\n",
    "3. **Low Senior Survival**: Seniors had the lowest survival rate, likely due to physical limitations."
   ]
  },
  {
   "cell_type": "markdown",
   "metadata": {
    "id": "obR2jwRhnFV3"
   },
   "source": [
    "5. Map the Embarked cities as 'S' to 'Southampton', 'C' to 'Cherbourg', 'Q' to 'Queenstown'. Compute the Survived rate by each embarked city using the mapping. Discuss insights you can draw from the results."
   ]
  },
  {
   "cell_type": "code",
   "execution_count": null,
   "metadata": {
    "id": "wT39r00RGFlJ"
   },
   "outputs": [
    {
     "name": "stdout",
     "output_type": "stream",
     "text": [
      "Survival Rate for Cherbourg: 55.36%\n",
      "Survival Rate for Queenstown: 38.96%\n",
      "Survival Rate for Southampton: 33.70%\n"
     ]
    }
   ],
   "source": [
    "# Replace values in the 'Embarked' column\n",
    "df.loc[df['Embarked'] == 'S', 'Embarked'] = 'Southampton'\n",
    "df.loc[df['Embarked'] == 'C', 'Embarked'] = 'Cherbourg'\n",
    "df.loc[df['Embarked'] == 'Q', 'Embarked'] = 'Queenstown'\n",
    "\n",
    "# Group the data by the updated 'Embarked' column and calculate the mean survival rate for each city\n",
    "survival_rate_by_city = df.groupby('Embarked')['Survived'].mean()\n",
    "\n",
    "# Loop through each city and the survival rate\n",
    "for city, rate in survival_rate_by_city.items():\n",
    "    # Display the survival rate for each city\n",
    "    print(f\"Survival Rate for {city}: {rate:.2%}\")"
   ]
  },
  {
   "cell_type": "markdown",
   "metadata": {},
   "source": [
    "# Insights for Question 5:\n",
    "1. **Cherbourg's Higher Survival Rate**: Passengers from Cherbourg had the highest survival rate. This could suggest that many Cherbourg passengers were wealthier and possibly traveled in higher classes, which had better survival outcomes.\n",
    "\n",
    "2. **Queenstown's Low Survival Rate**: Passengers from Queenstown had the lowest survival rate, possibly reflecting a larger proportion of third-class travelers, who faced greater challenges.\n",
    "\n",
    "3. **Southampton's Moderate Survival Rate**: Southampton’s rate falls in between, deonstrating a mix of socioeconomic backgrounds from various classes."
   ]
  },
  {
   "cell_type": "markdown",
   "metadata": {
    "id": "RiNcuaCczuP9"
   },
   "source": [
    "6. Define a function that computes the peak difference between the maximum and minimum values in an array. Group the data by Pclass and compute the peak difference of Ages for each Pclass group. Show the maximum, minimum, and the difference between max and min. Discuss insights you can draw from the results."
   ]
  },
  {
   "cell_type": "code",
   "execution_count": null,
   "metadata": {
    "id": "AdbvCN98zvnM"
   },
   "outputs": [
    {
     "name": "stdout",
     "output_type": "stream",
     "text": [
      "                           0\n",
      "Pclass                      \n",
      "1      Max Age          80.0\n",
      "       Min Age           2.0\n",
      "       Peak Difference  78.0\n",
      "2      Max Age          70.0\n",
      "       Min Age           1.0\n",
      "       Peak Difference  69.0\n",
      "3      Max Age          74.0\n",
      "       Min Age           1.0\n",
      "       Peak Difference  73.0\n"
     ]
    }
   ],
   "source": [
    "# Filter the DataFrame to only include rows where the age is 1 or older\n",
    "df = df[df['Age'] >= 1]\n",
    "\n",
    "# Function to calculate the peak difference in an array of ages\n",
    "def peak_difference(arr):\n",
    "    # Find the maximum age in the array\n",
    "    max_value = arr.max()\n",
    "    # Find the minimum age in the array\n",
    "    min_value = arr.min()\n",
    "    # Return a dictionary with max age, min age, and their peak difference\n",
    "    return {'Max Age': max_value, 'Min Age': min_value, 'Peak Difference': max_value - min_value}\n",
    "\n",
    "# Group the DataFrame by Class and apply the peak_difference function to the 'Age' column for each class\n",
    "age_peak_diff_by_pclass = df.groupby('Pclass')['Age'].apply(peak_difference)\n",
    "\n",
    "# Convert the results into a DataFrame, setting the index to match 'Pclass'\n",
    "age_peak_diff_by_pclass_df = pd.DataFrame(age_peak_diff_by_pclass.tolist(), index=age_peak_diff_by_pclass.index)\n",
    "\n",
    "# Display the resulting DataFrame showing Max Age, Min Age, and Peak Difference by class\n",
    "print(age_peak_diff_by_pclass_df)"
   ]
  },
  {
   "cell_type": "markdown",
   "metadata": {},
   "source": [
    "# Insigts for Question 6:\n",
    "1. **Broad Age Range in First Class**: First Class has the widest age range (2 to 80 years), indicating diverse age demographics, including both elderly and young passengers.\n",
    "\n",
    "2. **Young Children Across Classes**: The presence of young children in all classes (age 1-2) reflects that families with infants traveled in all socioeconomic groups.\n"
   ]
  }
 ],
 "metadata": {
  "colab": {
   "provenance": []
  },
  "kernelspec": {
   "display_name": "Python 3",
   "language": "python",
   "name": "python3"
  },
  "language_info": {
   "codemirror_mode": {
    "name": "ipython",
    "version": 3
   },
   "file_extension": ".py",
   "mimetype": "text/x-python",
   "name": "python",
   "nbconvert_exporter": "python",
   "pygments_lexer": "ipython3",
   "version": "3.12.0"
  }
 },
 "nbformat": 4,
 "nbformat_minor": 0
}
