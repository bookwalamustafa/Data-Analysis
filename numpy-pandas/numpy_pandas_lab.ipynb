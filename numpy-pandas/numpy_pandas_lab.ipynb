{
  "nbformat": 4,
  "nbformat_minor": 0,
  "metadata": {
    "kernelspec": {
      "display_name": "Python 3",
      "language": "python",
      "name": "python3"
    },
    "language_info": {
      "codemirror_mode": {
        "name": "ipython",
        "version": 3
      },
      "file_extension": ".py",
      "mimetype": "text/x-python",
      "name": "python",
      "nbconvert_exporter": "python",
      "pygments_lexer": "ipython3",
      "version": "3.7.1"
    },
    "colab": {
      "provenance": []
    }
  },
  "cells": [
    {
      "cell_type": "markdown",
      "metadata": {
        "id": "aWL1iSNqF4kn"
      },
      "source": [
        "# INFO 212: Data Science Programming 1\n",
        "## CCI at Drexel University\n",
        "\n",
        "\n",
        "## Week 3: Lab: Numpy and Pandas\n"
      ]
    },
    {
      "cell_type": "code",
      "source": [
        "from google.colab import drive\n",
        "drive.mount('/content/drive')"
      ],
      "metadata": {
        "colab": {
          "base_uri": "https://localhost:8080/"
        },
        "id": "P4m9-GNPCQeO",
        "outputId": "9232b768-d85f-478d-c9c5-f121ab591fc0"
      },
      "execution_count": 1,
      "outputs": [
        {
          "output_type": "stream",
          "name": "stdout",
          "text": [
            "Mounted at /content/drive\n"
          ]
        }
      ]
    },
    {
      "cell_type": "markdown",
      "source": [
        "## What to do:\n",
        "- Answer each question individually.\n",
        "- Comment on each single statement.\n",
        "- Each missing comment will be penalized by 1 point.\n",
        "- Verify the code by showing meaningful results."
      ],
      "metadata": {
        "id": "Q4M8EcE-SWrv"
      }
    },
    {
      "cell_type": "markdown",
      "source": [
        "import packages"
      ],
      "metadata": {
        "id": "6Rrnb6Re07A4"
      }
    },
    {
      "cell_type": "code",
      "source": [
        "import random  # Importing the randon library\n",
        "import numpy as np  # Importing the numpy library as np\n",
        "import pandas as pd  # Importing the pandas library as pd"
      ],
      "metadata": {
        "id": "JNFdtMPJ0-ig"
      },
      "execution_count": 23,
      "outputs": []
    },
    {
      "cell_type": "markdown",
      "metadata": {
        "id": "u3UpQQG-3pb9"
      },
      "source": [
        "## Exercise 1:\n",
        "\n",
        "Create 3 lists, `ls1`, `ls2`, and `ls3`, with the following values:\n",
        "- `ls1` contains 10 random decimal numbers in the range of (0.00, 150.00), each of which with 2-digit precision.\n",
        "- `ls2` contains 10 random integers in the range of (1, 500).\n",
        "- `ls3` contains 10 random decimal numbers in the range of (0.05, 0.90), each of which with 2-digit precision and the last digit rounded to the nearest 0 or 5.\n",
        "\n",
        "Show the content of the lists."
      ]
    },
    {
      "cell_type": "code",
      "source": [
        "def float_number_generator(lower_range, upper_range, step):  # Defining function for getting ls1, ls3. Takes 3 input parameters.\n",
        "  if step != 0:  # Executes code for generation of ls3\n",
        "    total_numbers_in_list = np.arange(lower_range, upper_range, step)  # Gets all the numbers between the lower range, upper range but in intervals of the 'step'\n",
        "    random_index = [random.randint(0, len(total_numbers_in_list) -1) for i in range(10)]  # List Comprehension - Getting the index value of the numbers that we will be selecting from 'total_numbers_in_list'. A loop runs for 10 iterations since we only need 10 numbers hence only 10 index positions\n",
        "    ls = [round(total_numbers_in_list[i], 2) for i in random_index]  # From 'total_numbers_in_list', we select those numbers that our random index generator has generated, and we do that for every index value in the 'random_index' list\n",
        "    return ls  # Returning the list formed. In this case, ls3\n",
        "  else:  # Executes code for generation of ls1\n",
        "    return [round(random.uniform(0.00, 150.00), 2) for i in range(10)]  # List comprehension - Getting 10 random float numbers between 0.00 and 150.00 rounded up to 2 decimal places\n",
        "\n",
        "ls1 = float_number_generator(0.00, 150.00, 0)  # Calls the function for storing the list\n",
        "ls2 = [random.randint(1, 500) for i in range(10)]  # Runs the loop 10 times to get 10 random integer numbers between 1 and 500\n",
        "ls3 = float_number_generator(0.05, 0.90, 0.05)  # Calls the function for storing the list\n",
        "\n",
        "print(f\"ls1: {ls1}\")  # Prints the content of the list\n",
        "print(f\"ls2: {ls2}\")  # Prints the content of the list\n",
        "print(f\"ls3: {ls3}\")  # Prints the content of the list"
      ],
      "metadata": {
        "id": "7sAbaijGA_B3",
        "colab": {
          "base_uri": "https://localhost:8080/"
        },
        "outputId": "ac7bf063-978a-4db7-ec3a-957e3bf82090"
      },
      "execution_count": 24,
      "outputs": [
        {
          "output_type": "stream",
          "name": "stdout",
          "text": [
            "ls1: [76.29, 82.04, 7.66, 28.8, 41.18, 4.93, 77.0, 29.38, 145.03, 50.26]\n",
            "ls2: [394, 170, 408, 403, 245, 471, 487, 103, 3, 429]\n",
            "ls3: [0.75, 0.3, 0.2, 0.85, 0.4, 0.25, 0.4, 0.05, 0.55, 0.55]\n"
          ]
        }
      ]
    },
    {
      "cell_type": "markdown",
      "source": [
        "## Exercise 2:\n",
        "- Use the 3 lists as 3 columns to create a numpy array `arr` which uses `ls1` as the first column, `ls2` as the second column, and `ls3` as the third column.\n",
        "- Show the content and shape of the array."
      ],
      "metadata": {
        "id": "zCpUaM7t2HlZ"
      }
    },
    {
      "cell_type": "code",
      "source": [
        "arr = np.array([[ls1[i], ls2[i], ls3[i]] for i in range(10)])  # Creating a numpy array called arr which stores the contents of the 3 lists generated above as an array. For loop used since we have 10 elements per list and need 10 rows. The array stores items per row\n",
        "\n",
        "print(f\"Content: \\n{arr}\\n\")  # Prints the content of the arr\n",
        "print(f\"Shape: {arr.shape}\")  # Prints the shape of the arr. (10 rows and 3 columns)"
      ],
      "metadata": {
        "colab": {
          "base_uri": "https://localhost:8080/"
        },
        "id": "kFuI0LtOMI0P",
        "outputId": "f920d224-9521-4738-8103-221c0f572a9e"
      },
      "execution_count": 25,
      "outputs": [
        {
          "output_type": "stream",
          "name": "stdout",
          "text": [
            "Content: \n",
            "[[7.6290e+01 3.9400e+02 7.5000e-01]\n",
            " [8.2040e+01 1.7000e+02 3.0000e-01]\n",
            " [7.6600e+00 4.0800e+02 2.0000e-01]\n",
            " [2.8800e+01 4.0300e+02 8.5000e-01]\n",
            " [4.1180e+01 2.4500e+02 4.0000e-01]\n",
            " [4.9300e+00 4.7100e+02 2.5000e-01]\n",
            " [7.7000e+01 4.8700e+02 4.0000e-01]\n",
            " [2.9380e+01 1.0300e+02 5.0000e-02]\n",
            " [1.4503e+02 3.0000e+00 5.5000e-01]\n",
            " [5.0260e+01 4.2900e+02 5.5000e-01]]\n",
            "\n",
            "Shape: (10, 3)\n"
          ]
        }
      ]
    },
    {
      "cell_type": "markdown",
      "source": [
        "## Exercise 3:\n",
        "- For the third column of `arr`, compute a boolean array indicating whether the value is between [0.20, 0.50].\n",
        "- Use the boolean array to extract the rows of `arr` such as the values of the third column are between [0.20, 0.50]."
      ],
      "metadata": {
        "id": "b36Zl5lUMQr3"
      }
    },
    {
      "cell_type": "code",
      "source": [
        "boolean_array = []  # Creating an empty list that will store the true/false if numbers is between [0.20, 0.50]\n",
        "new_ls3 = []  # Creating an empty list that will store the numbers that are between [0.20, 0.50]\n",
        "\n",
        "for num in ls3:  # Runs the loop for every number in ls3\n",
        "  if ((num  >= 0.20) and (num <= 0.50)):  # Checks if the number in ls3 is between [0.20, 0.50]\n",
        "    boolean_array.append(\"true\")  # If condition satisfied, then we add 'true' to the list\n",
        "    new_ls3.append(num)  # If condition satisfied, we add the number to the new list\n",
        "  else:  # Is executed if the number in ls3 is not between [0.20, 0.50]\n",
        "    boolean_array.append(\"false\")  # Adds 'false' to the list\n",
        "\n",
        "print(f\"Boolean Array: {boolean_array}\\n\")  # Prints the contents of the boolean_array\n",
        "print(f\"Extracting only those rows for which Boolean Array is 'true': {new_ls3}\")  # Prints the contents of the new_ls3"
      ],
      "metadata": {
        "id": "FcDE4qHlA_zL",
        "colab": {
          "base_uri": "https://localhost:8080/"
        },
        "outputId": "c892d574-b7e8-4dd3-d72d-78eacc5c8265"
      },
      "execution_count": 26,
      "outputs": [
        {
          "output_type": "stream",
          "name": "stdout",
          "text": [
            "Boolean Array: ['false', 'true', 'true', 'false', 'true', 'true', 'true', 'false', 'false', 'false']\n",
            "\n",
            "Extracting only those rows for which Boolean Array is 'true': [0.3, 0.2, 0.4, 0.25, 0.4]\n"
          ]
        }
      ]
    },
    {
      "cell_type": "markdown",
      "source": [
        "## Exercise 4:\n",
        "\n",
        "Use `ls1`, `ls2`, and `ls3` as the three columns to create a Pandas DataFrame `items`. Assign the column names as `['price', 'quantity', 'discount']`."
      ],
      "metadata": {
        "id": "Oo-zMqF219WX"
      }
    },
    {
      "cell_type": "code",
      "source": [
        "items = pd.DataFrame(arr)  # Creating a pandas dataframe by using the arr created above\n",
        "items.columns = ['price', 'quantity', 'discount']  # Assigning the column names to the required ones\n",
        "\n",
        "print(items)  # Displaying the contents"
      ],
      "metadata": {
        "id": "Wk1ULlMcBAQk",
        "colab": {
          "base_uri": "https://localhost:8080/"
        },
        "outputId": "ee702e3d-8f9e-4d60-990d-0bf5c7558be5"
      },
      "execution_count": 27,
      "outputs": [
        {
          "output_type": "stream",
          "name": "stdout",
          "text": [
            "    price  quantity  discount\n",
            "0   76.29     394.0      0.75\n",
            "1   82.04     170.0      0.30\n",
            "2    7.66     408.0      0.20\n",
            "3   28.80     403.0      0.85\n",
            "4   41.18     245.0      0.40\n",
            "5    4.93     471.0      0.25\n",
            "6   77.00     487.0      0.40\n",
            "7   29.38     103.0      0.05\n",
            "8  145.03       3.0      0.55\n",
            "9   50.26     429.0      0.55\n"
          ]
        }
      ]
    },
    {
      "cell_type": "markdown",
      "source": [
        "## Exercise 5:\n",
        "\n",
        "Show the shape, columns, and summary statistics of the DataFrame `items`."
      ],
      "metadata": {
        "id": "eeAosOlJYZaY"
      }
    },
    {
      "cell_type": "code",
      "source": [
        "print(f\"Shape: {items.shape}\\n\")  # Displaying the shape of the new dataframe 'items'\n",
        "print(f\"Columns: \\n{items.columns} \\n\")  # Displaying the Column names of the new dataframe\n",
        "print(f\"Summary statistics: \\n{items.describe()}\")  # Displaying the summary of the statistics of the dataframe using the describe() function"
      ],
      "metadata": {
        "id": "j2esiP6FBAwd",
        "colab": {
          "base_uri": "https://localhost:8080/"
        },
        "outputId": "3f4c778b-d0f5-4952-9849-a958979f5fd9"
      },
      "execution_count": 29,
      "outputs": [
        {
          "output_type": "stream",
          "name": "stdout",
          "text": [
            "Shape: (10, 3)\n",
            "\n",
            "Columns: \n",
            "Index(['price', 'quantity', 'discount'], dtype='object') \n",
            "\n",
            "Summary statistics: \n",
            "            price    quantity   discount\n",
            "count   10.000000   10.000000  10.000000\n",
            "mean    54.257000  311.300000   0.430000\n",
            "std     42.259346  169.189604   0.248551\n",
            "min      4.930000    3.000000   0.050000\n",
            "25%     28.945000  188.750000   0.262500\n",
            "50%     45.720000  398.500000   0.400000\n",
            "75%     76.822500  423.750000   0.550000\n",
            "max    145.030000  487.000000   0.850000\n"
          ]
        }
      ]
    },
    {
      "cell_type": "markdown",
      "source": [
        "## Exercise 6:\n",
        "\n",
        "Create a list of 10 strings as item names (meaningful names). Assign the names to the index of the DataFrame `items`. Show the final DataFrame."
      ],
      "metadata": {
        "id": "Zf199akM2Mkm"
      }
    },
    {
      "cell_type": "code",
      "source": [
        "index_names = [\"Alex\", \"Bob\", \"Charlie\", \"Don\", \"Ethan\", \"Frankfurt\", \"Goodwin\", \"Harry\", \"Ian\", \"Joseph\"]  # Creating a list with 10 names\n",
        "items.index = index_names  # Assigning the above names as the index of the 'items' dataframe\n",
        "\n",
        "print(items)  # Displaying the final dataframe"
      ],
      "metadata": {
        "id": "GATYlNb8BBP-",
        "colab": {
          "base_uri": "https://localhost:8080/"
        },
        "outputId": "fa3d3d9c-1a2f-4b44-a9d3-ab3c6c24b6ec"
      },
      "execution_count": 32,
      "outputs": [
        {
          "output_type": "stream",
          "name": "stdout",
          "text": [
            "            price  quantity  discount\n",
            "Alex        76.29     394.0      0.75\n",
            "Bob         82.04     170.0      0.30\n",
            "Charlie      7.66     408.0      0.20\n",
            "Don         28.80     403.0      0.85\n",
            "Ethan       41.18     245.0      0.40\n",
            "Frankfurt    4.93     471.0      0.25\n",
            "Goodwin     77.00     487.0      0.40\n",
            "Harry       29.38     103.0      0.05\n",
            "Ian        145.03       3.0      0.55\n",
            "Joseph      50.26     429.0      0.55\n"
          ]
        }
      ]
    }
  ]
}